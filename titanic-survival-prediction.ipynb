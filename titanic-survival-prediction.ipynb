{
 "cells": [
  {
   "cell_type": "markdown",
   "id": "d09f6e69",
   "metadata": {
    "papermill": {
     "duration": 0.008524,
     "end_time": "2024-01-08T19:08:26.294962",
     "exception": false,
     "start_time": "2024-01-08T19:08:26.286438",
     "status": "completed"
    },
    "tags": []
   },
   "source": [
    "# <center><font color = \"Purple\"> Titanic Survival Prediction </font></center>"
   ]
  },
  {
   "cell_type": "markdown",
   "id": "ad1c1fc2",
   "metadata": {
    "papermill": {
     "duration": 0.007891,
     "end_time": "2024-01-08T19:08:26.311299",
     "exception": false,
     "start_time": "2024-01-08T19:08:26.303408",
     "status": "completed"
    },
    "tags": []
   },
   "source": [
    "## <font color = \"blue\">Importing libraries📚</font>"
   ]
  },
  {
   "cell_type": "code",
   "execution_count": 1,
   "id": "ab69dad9",
   "metadata": {
    "execution": {
     "iopub.execute_input": "2024-01-08T19:08:26.330075Z",
     "iopub.status.busy": "2024-01-08T19:08:26.329090Z",
     "iopub.status.idle": "2024-01-08T19:08:28.508323Z",
     "shell.execute_reply": "2024-01-08T19:08:28.507278Z"
    },
    "papermill": {
     "duration": 2.191311,
     "end_time": "2024-01-08T19:08:28.510935",
     "exception": false,
     "start_time": "2024-01-08T19:08:26.319624",
     "status": "completed"
    },
    "tags": []
   },
   "outputs": [],
   "source": [
    "import pandas as pd\n",
    "import numpy as np\n",
    "import matplotlib.pyplot as plt\n",
    "import seaborn as sns\n",
    "from sklearn.ensemble import RandomForestClassifier"
   ]
  },
  {
   "cell_type": "markdown",
   "id": "00815259",
   "metadata": {
    "papermill": {
     "duration": 0.008496,
     "end_time": "2024-01-08T19:08:28.528134",
     "exception": false,
     "start_time": "2024-01-08T19:08:28.519638",
     "status": "completed"
    },
    "tags": []
   },
   "source": [
    "## <font color = 'black'> Loading Datasets </font>\n"
   ]
  },
  {
   "cell_type": "code",
   "execution_count": 2,
   "id": "518cac69",
   "metadata": {
    "execution": {
     "iopub.execute_input": "2024-01-08T19:08:28.546893Z",
     "iopub.status.busy": "2024-01-08T19:08:28.546357Z",
     "iopub.status.idle": "2024-01-08T19:08:28.579484Z",
     "shell.execute_reply": "2024-01-08T19:08:28.578527Z"
    },
    "papermill": {
     "duration": 0.045319,
     "end_time": "2024-01-08T19:08:28.581938",
     "exception": false,
     "start_time": "2024-01-08T19:08:28.536619",
     "status": "completed"
    },
    "tags": []
   },
   "outputs": [],
   "source": [
    "tacos, nachos = pd.read_csv('/kaggle/input/titanic-machine-learning-from-disaster/train.csv'),pd.read_csv('/kaggle/input/titanic-machine-learning-from-disaster/test.csv')"
   ]
  },
  {
   "cell_type": "markdown",
   "id": "7b13c76c",
   "metadata": {
    "papermill": {
     "duration": 0.008153,
     "end_time": "2024-01-08T19:08:28.598801",
     "exception": false,
     "start_time": "2024-01-08T19:08:28.590648",
     "status": "completed"
    },
    "tags": []
   },
   "source": [
    "## <font color = 'purple'> Analyzing and exploring the data🔎</font>"
   ]
  },
  {
   "cell_type": "markdown",
   "id": "e17334b0",
   "metadata": {
    "papermill": {
     "duration": 0.00861,
     "end_time": "2024-01-08T19:08:28.615959",
     "exception": false,
     "start_time": "2024-01-08T19:08:28.607349",
     "status": "completed"
    },
    "tags": []
   },
   "source": [
    "<span style=\"font-family:cursive;\"> I might have been hungry during the making of this notebook 🌮</span>"
   ]
  },
  {
   "cell_type": "code",
   "execution_count": 3,
   "id": "b3a0d5a4",
   "metadata": {
    "execution": {
     "iopub.execute_input": "2024-01-08T19:08:28.634901Z",
     "iopub.status.busy": "2024-01-08T19:08:28.633916Z",
     "iopub.status.idle": "2024-01-08T19:08:28.659665Z",
     "shell.execute_reply": "2024-01-08T19:08:28.658577Z"
    },
    "papermill": {
     "duration": 0.03768,
     "end_time": "2024-01-08T19:08:28.662153",
     "exception": false,
     "start_time": "2024-01-08T19:08:28.624473",
     "status": "completed"
    },
    "tags": []
   },
   "outputs": [
    {
     "data": {
      "text/html": [
       "<div>\n",
       "<style scoped>\n",
       "    .dataframe tbody tr th:only-of-type {\n",
       "        vertical-align: middle;\n",
       "    }\n",
       "\n",
       "    .dataframe tbody tr th {\n",
       "        vertical-align: top;\n",
       "    }\n",
       "\n",
       "    .dataframe thead th {\n",
       "        text-align: right;\n",
       "    }\n",
       "</style>\n",
       "<table border=\"1\" class=\"dataframe\">\n",
       "  <thead>\n",
       "    <tr style=\"text-align: right;\">\n",
       "      <th></th>\n",
       "      <th>PassengerId</th>\n",
       "      <th>Survived</th>\n",
       "      <th>Pclass</th>\n",
       "      <th>Name</th>\n",
       "      <th>Sex</th>\n",
       "      <th>Age</th>\n",
       "      <th>SibSp</th>\n",
       "      <th>Parch</th>\n",
       "      <th>Ticket</th>\n",
       "      <th>Fare</th>\n",
       "      <th>Cabin</th>\n",
       "      <th>Embarked</th>\n",
       "    </tr>\n",
       "  </thead>\n",
       "  <tbody>\n",
       "    <tr>\n",
       "      <th>0</th>\n",
       "      <td>1</td>\n",
       "      <td>0</td>\n",
       "      <td>3</td>\n",
       "      <td>Braund, Mr. Owen Harris</td>\n",
       "      <td>male</td>\n",
       "      <td>22.0</td>\n",
       "      <td>1</td>\n",
       "      <td>0</td>\n",
       "      <td>A/5 21171</td>\n",
       "      <td>7.2500</td>\n",
       "      <td>NaN</td>\n",
       "      <td>S</td>\n",
       "    </tr>\n",
       "    <tr>\n",
       "      <th>1</th>\n",
       "      <td>2</td>\n",
       "      <td>1</td>\n",
       "      <td>1</td>\n",
       "      <td>Cumings, Mrs. John Bradley (Florence Briggs Th...</td>\n",
       "      <td>female</td>\n",
       "      <td>38.0</td>\n",
       "      <td>1</td>\n",
       "      <td>0</td>\n",
       "      <td>PC 17599</td>\n",
       "      <td>71.2833</td>\n",
       "      <td>C85</td>\n",
       "      <td>C</td>\n",
       "    </tr>\n",
       "    <tr>\n",
       "      <th>2</th>\n",
       "      <td>3</td>\n",
       "      <td>1</td>\n",
       "      <td>3</td>\n",
       "      <td>Heikkinen, Miss. Laina</td>\n",
       "      <td>female</td>\n",
       "      <td>26.0</td>\n",
       "      <td>0</td>\n",
       "      <td>0</td>\n",
       "      <td>STON/O2. 3101282</td>\n",
       "      <td>7.9250</td>\n",
       "      <td>NaN</td>\n",
       "      <td>S</td>\n",
       "    </tr>\n",
       "    <tr>\n",
       "      <th>3</th>\n",
       "      <td>4</td>\n",
       "      <td>1</td>\n",
       "      <td>1</td>\n",
       "      <td>Futrelle, Mrs. Jacques Heath (Lily May Peel)</td>\n",
       "      <td>female</td>\n",
       "      <td>35.0</td>\n",
       "      <td>1</td>\n",
       "      <td>0</td>\n",
       "      <td>113803</td>\n",
       "      <td>53.1000</td>\n",
       "      <td>C123</td>\n",
       "      <td>S</td>\n",
       "    </tr>\n",
       "    <tr>\n",
       "      <th>4</th>\n",
       "      <td>5</td>\n",
       "      <td>0</td>\n",
       "      <td>3</td>\n",
       "      <td>Allen, Mr. William Henry</td>\n",
       "      <td>male</td>\n",
       "      <td>35.0</td>\n",
       "      <td>0</td>\n",
       "      <td>0</td>\n",
       "      <td>373450</td>\n",
       "      <td>8.0500</td>\n",
       "      <td>NaN</td>\n",
       "      <td>S</td>\n",
       "    </tr>\n",
       "  </tbody>\n",
       "</table>\n",
       "</div>"
      ],
      "text/plain": [
       "   PassengerId  Survived  Pclass  \\\n",
       "0            1         0       3   \n",
       "1            2         1       1   \n",
       "2            3         1       3   \n",
       "3            4         1       1   \n",
       "4            5         0       3   \n",
       "\n",
       "                                                Name     Sex   Age  SibSp  \\\n",
       "0                            Braund, Mr. Owen Harris    male  22.0      1   \n",
       "1  Cumings, Mrs. John Bradley (Florence Briggs Th...  female  38.0      1   \n",
       "2                             Heikkinen, Miss. Laina  female  26.0      0   \n",
       "3       Futrelle, Mrs. Jacques Heath (Lily May Peel)  female  35.0      1   \n",
       "4                           Allen, Mr. William Henry    male  35.0      0   \n",
       "\n",
       "   Parch            Ticket     Fare Cabin Embarked  \n",
       "0      0         A/5 21171   7.2500   NaN        S  \n",
       "1      0          PC 17599  71.2833   C85        C  \n",
       "2      0  STON/O2. 3101282   7.9250   NaN        S  \n",
       "3      0            113803  53.1000  C123        S  \n",
       "4      0            373450   8.0500   NaN        S  "
      ]
     },
     "execution_count": 3,
     "metadata": {},
     "output_type": "execute_result"
    }
   ],
   "source": [
    "tacos.head()"
   ]
  },
  {
   "cell_type": "code",
   "execution_count": 4,
   "id": "af9c3219",
   "metadata": {
    "execution": {
     "iopub.execute_input": "2024-01-08T19:08:28.681420Z",
     "iopub.status.busy": "2024-01-08T19:08:28.680982Z",
     "iopub.status.idle": "2024-01-08T19:08:28.696255Z",
     "shell.execute_reply": "2024-01-08T19:08:28.695432Z"
    },
    "papermill": {
     "duration": 0.027315,
     "end_time": "2024-01-08T19:08:28.698376",
     "exception": false,
     "start_time": "2024-01-08T19:08:28.671061",
     "status": "completed"
    },
    "tags": []
   },
   "outputs": [
    {
     "data": {
      "text/html": [
       "<div>\n",
       "<style scoped>\n",
       "    .dataframe tbody tr th:only-of-type {\n",
       "        vertical-align: middle;\n",
       "    }\n",
       "\n",
       "    .dataframe tbody tr th {\n",
       "        vertical-align: top;\n",
       "    }\n",
       "\n",
       "    .dataframe thead th {\n",
       "        text-align: right;\n",
       "    }\n",
       "</style>\n",
       "<table border=\"1\" class=\"dataframe\">\n",
       "  <thead>\n",
       "    <tr style=\"text-align: right;\">\n",
       "      <th></th>\n",
       "      <th>PassengerId</th>\n",
       "      <th>Pclass</th>\n",
       "      <th>Name</th>\n",
       "      <th>Sex</th>\n",
       "      <th>Age</th>\n",
       "      <th>SibSp</th>\n",
       "      <th>Parch</th>\n",
       "      <th>Ticket</th>\n",
       "      <th>Fare</th>\n",
       "      <th>Cabin</th>\n",
       "      <th>Embarked</th>\n",
       "    </tr>\n",
       "  </thead>\n",
       "  <tbody>\n",
       "    <tr>\n",
       "      <th>0</th>\n",
       "      <td>892</td>\n",
       "      <td>3</td>\n",
       "      <td>Kelly, Mr. James</td>\n",
       "      <td>male</td>\n",
       "      <td>34.5</td>\n",
       "      <td>0</td>\n",
       "      <td>0</td>\n",
       "      <td>330911</td>\n",
       "      <td>7.8292</td>\n",
       "      <td>NaN</td>\n",
       "      <td>Q</td>\n",
       "    </tr>\n",
       "    <tr>\n",
       "      <th>1</th>\n",
       "      <td>893</td>\n",
       "      <td>3</td>\n",
       "      <td>Wilkes, Mrs. James (Ellen Needs)</td>\n",
       "      <td>female</td>\n",
       "      <td>47.0</td>\n",
       "      <td>1</td>\n",
       "      <td>0</td>\n",
       "      <td>363272</td>\n",
       "      <td>7.0000</td>\n",
       "      <td>NaN</td>\n",
       "      <td>S</td>\n",
       "    </tr>\n",
       "    <tr>\n",
       "      <th>2</th>\n",
       "      <td>894</td>\n",
       "      <td>2</td>\n",
       "      <td>Myles, Mr. Thomas Francis</td>\n",
       "      <td>male</td>\n",
       "      <td>62.0</td>\n",
       "      <td>0</td>\n",
       "      <td>0</td>\n",
       "      <td>240276</td>\n",
       "      <td>9.6875</td>\n",
       "      <td>NaN</td>\n",
       "      <td>Q</td>\n",
       "    </tr>\n",
       "    <tr>\n",
       "      <th>3</th>\n",
       "      <td>895</td>\n",
       "      <td>3</td>\n",
       "      <td>Wirz, Mr. Albert</td>\n",
       "      <td>male</td>\n",
       "      <td>27.0</td>\n",
       "      <td>0</td>\n",
       "      <td>0</td>\n",
       "      <td>315154</td>\n",
       "      <td>8.6625</td>\n",
       "      <td>NaN</td>\n",
       "      <td>S</td>\n",
       "    </tr>\n",
       "    <tr>\n",
       "      <th>4</th>\n",
       "      <td>896</td>\n",
       "      <td>3</td>\n",
       "      <td>Hirvonen, Mrs. Alexander (Helga E Lindqvist)</td>\n",
       "      <td>female</td>\n",
       "      <td>22.0</td>\n",
       "      <td>1</td>\n",
       "      <td>1</td>\n",
       "      <td>3101298</td>\n",
       "      <td>12.2875</td>\n",
       "      <td>NaN</td>\n",
       "      <td>S</td>\n",
       "    </tr>\n",
       "  </tbody>\n",
       "</table>\n",
       "</div>"
      ],
      "text/plain": [
       "   PassengerId  Pclass                                          Name     Sex  \\\n",
       "0          892       3                              Kelly, Mr. James    male   \n",
       "1          893       3              Wilkes, Mrs. James (Ellen Needs)  female   \n",
       "2          894       2                     Myles, Mr. Thomas Francis    male   \n",
       "3          895       3                              Wirz, Mr. Albert    male   \n",
       "4          896       3  Hirvonen, Mrs. Alexander (Helga E Lindqvist)  female   \n",
       "\n",
       "    Age  SibSp  Parch   Ticket     Fare Cabin Embarked  \n",
       "0  34.5      0      0   330911   7.8292   NaN        Q  \n",
       "1  47.0      1      0   363272   7.0000   NaN        S  \n",
       "2  62.0      0      0   240276   9.6875   NaN        Q  \n",
       "3  27.0      0      0   315154   8.6625   NaN        S  \n",
       "4  22.0      1      1  3101298  12.2875   NaN        S  "
      ]
     },
     "execution_count": 4,
     "metadata": {},
     "output_type": "execute_result"
    }
   ],
   "source": [
    "nachos.head()"
   ]
  },
  {
   "cell_type": "markdown",
   "id": "b88bcacf",
   "metadata": {
    "papermill": {
     "duration": 0.008641,
     "end_time": "2024-01-08T19:08:28.716191",
     "exception": false,
     "start_time": "2024-01-08T19:08:28.707550",
     "status": "completed"
    },
    "tags": []
   },
   "source": [
    "#### Basic information about the data"
   ]
  },
  {
   "cell_type": "markdown",
   "id": "f7ddb869",
   "metadata": {
    "papermill": {
     "duration": 0.008493,
     "end_time": "2024-01-08T19:08:28.734365",
     "exception": false,
     "start_time": "2024-01-08T19:08:28.725872",
     "status": "completed"
    },
    "tags": []
   },
   "source": [
    "<div>\n",
    "<b>PassengerID:</b> uniqe id of each passenger, Survived: the life or death of a passenger (0 or 1) 1= Survived, 0 = Not Survived\n",
    "<br>\n",
    "    <b>Pclass:</b> (passenger class) is the scoioeconomic status of the passengers: 1 = Upper Class, 2 = Middle Class, 3 = Lower Class</br>\n",
    "<b>Embarked:</b> port of entry with 3 unique values (C,Q, or S) C= Cherbourg, Q= Queenstown, S= Southampton<div>"
   ]
  },
  {
   "cell_type": "code",
   "execution_count": 5,
   "id": "b493fdd7",
   "metadata": {
    "execution": {
     "iopub.execute_input": "2024-01-08T19:08:28.754308Z",
     "iopub.status.busy": "2024-01-08T19:08:28.753635Z",
     "iopub.status.idle": "2024-01-08T19:08:28.784761Z",
     "shell.execute_reply": "2024-01-08T19:08:28.783101Z"
    },
    "papermill": {
     "duration": 0.043362,
     "end_time": "2024-01-08T19:08:28.787006",
     "exception": false,
     "start_time": "2024-01-08T19:08:28.743644",
     "status": "completed"
    },
    "tags": []
   },
   "outputs": [
    {
     "name": "stdout",
     "output_type": "stream",
     "text": [
      "<class 'pandas.core.frame.DataFrame'>\n",
      "RangeIndex: 891 entries, 0 to 890\n",
      "Data columns (total 12 columns):\n",
      " #   Column       Non-Null Count  Dtype  \n",
      "---  ------       --------------  -----  \n",
      " 0   PassengerId  891 non-null    int64  \n",
      " 1   Survived     891 non-null    int64  \n",
      " 2   Pclass       891 non-null    int64  \n",
      " 3   Name         891 non-null    object \n",
      " 4   Sex          891 non-null    object \n",
      " 5   Age          714 non-null    float64\n",
      " 6   SibSp        891 non-null    int64  \n",
      " 7   Parch        891 non-null    int64  \n",
      " 8   Ticket       891 non-null    object \n",
      " 9   Fare         891 non-null    float64\n",
      " 10  Cabin        204 non-null    object \n",
      " 11  Embarked     889 non-null    object \n",
      "dtypes: float64(2), int64(5), object(5)\n",
      "memory usage: 83.7+ KB\n"
     ]
    }
   ],
   "source": [
    "tacos.info()"
   ]
  },
  {
   "cell_type": "code",
   "execution_count": 6,
   "id": "e48ebbb6",
   "metadata": {
    "execution": {
     "iopub.execute_input": "2024-01-08T19:08:28.806821Z",
     "iopub.status.busy": "2024-01-08T19:08:28.806452Z",
     "iopub.status.idle": "2024-01-08T19:08:28.818567Z",
     "shell.execute_reply": "2024-01-08T19:08:28.817321Z"
    },
    "papermill": {
     "duration": 0.024974,
     "end_time": "2024-01-08T19:08:28.821016",
     "exception": false,
     "start_time": "2024-01-08T19:08:28.796042",
     "status": "completed"
    },
    "tags": []
   },
   "outputs": [
    {
     "name": "stdout",
     "output_type": "stream",
     "text": [
      "<class 'pandas.core.frame.DataFrame'>\n",
      "RangeIndex: 418 entries, 0 to 417\n",
      "Data columns (total 11 columns):\n",
      " #   Column       Non-Null Count  Dtype  \n",
      "---  ------       --------------  -----  \n",
      " 0   PassengerId  418 non-null    int64  \n",
      " 1   Pclass       418 non-null    int64  \n",
      " 2   Name         418 non-null    object \n",
      " 3   Sex          418 non-null    object \n",
      " 4   Age          332 non-null    float64\n",
      " 5   SibSp        418 non-null    int64  \n",
      " 6   Parch        418 non-null    int64  \n",
      " 7   Ticket       418 non-null    object \n",
      " 8   Fare         417 non-null    float64\n",
      " 9   Cabin        91 non-null     object \n",
      " 10  Embarked     418 non-null    object \n",
      "dtypes: float64(2), int64(4), object(5)\n",
      "memory usage: 36.0+ KB\n"
     ]
    }
   ],
   "source": [
    "nachos.info()"
   ]
  },
  {
   "cell_type": "code",
   "execution_count": 7,
   "id": "60f3813a",
   "metadata": {
    "execution": {
     "iopub.execute_input": "2024-01-08T19:08:28.840789Z",
     "iopub.status.busy": "2024-01-08T19:08:28.840409Z",
     "iopub.status.idle": "2024-01-08T19:08:28.846019Z",
     "shell.execute_reply": "2024-01-08T19:08:28.845019Z"
    },
    "papermill": {
     "duration": 0.018178,
     "end_time": "2024-01-08T19:08:28.848375",
     "exception": false,
     "start_time": "2024-01-08T19:08:28.830197",
     "status": "completed"
    },
    "tags": []
   },
   "outputs": [
    {
     "name": "stdout",
     "output_type": "stream",
     "text": [
      "(891, 12)\n",
      "(418, 11)\n"
     ]
    }
   ],
   "source": [
    "taco = tacos.shape\n",
    "nacho = nachos.shape\n",
    "print(taco)\n",
    "print(nacho)"
   ]
  },
  {
   "cell_type": "code",
   "execution_count": 8,
   "id": "0ef34ed5",
   "metadata": {
    "execution": {
     "iopub.execute_input": "2024-01-08T19:08:28.868660Z",
     "iopub.status.busy": "2024-01-08T19:08:28.867996Z",
     "iopub.status.idle": "2024-01-08T19:08:28.876695Z",
     "shell.execute_reply": "2024-01-08T19:08:28.875461Z"
    },
    "papermill": {
     "duration": 0.021414,
     "end_time": "2024-01-08T19:08:28.878965",
     "exception": false,
     "start_time": "2024-01-08T19:08:28.857551",
     "status": "completed"
    },
    "tags": []
   },
   "outputs": [
    {
     "data": {
      "text/plain": [
       "PassengerId      0\n",
       "Survived         0\n",
       "Pclass           0\n",
       "Name             0\n",
       "Sex              0\n",
       "Age            177\n",
       "SibSp            0\n",
       "Parch            0\n",
       "Ticket           0\n",
       "Fare             0\n",
       "Cabin          687\n",
       "Embarked         2\n",
       "dtype: int64"
      ]
     },
     "execution_count": 8,
     "metadata": {},
     "output_type": "execute_result"
    }
   ],
   "source": [
    "tacos.isna().sum()"
   ]
  },
  {
   "cell_type": "code",
   "execution_count": 9,
   "id": "b78148f9",
   "metadata": {
    "execution": {
     "iopub.execute_input": "2024-01-08T19:08:28.899173Z",
     "iopub.status.busy": "2024-01-08T19:08:28.898790Z",
     "iopub.status.idle": "2024-01-08T19:08:28.907491Z",
     "shell.execute_reply": "2024-01-08T19:08:28.906387Z"
    },
    "papermill": {
     "duration": 0.021427,
     "end_time": "2024-01-08T19:08:28.909695",
     "exception": false,
     "start_time": "2024-01-08T19:08:28.888268",
     "status": "completed"
    },
    "tags": []
   },
   "outputs": [
    {
     "data": {
      "text/plain": [
       "PassengerId      0\n",
       "Pclass           0\n",
       "Name             0\n",
       "Sex              0\n",
       "Age             86\n",
       "SibSp            0\n",
       "Parch            0\n",
       "Ticket           0\n",
       "Fare             1\n",
       "Cabin          327\n",
       "Embarked         0\n",
       "dtype: int64"
      ]
     },
     "execution_count": 9,
     "metadata": {},
     "output_type": "execute_result"
    }
   ],
   "source": [
    "nachos.isna().sum()"
   ]
  },
  {
   "cell_type": "code",
   "execution_count": 10,
   "id": "ccc6c6c1",
   "metadata": {
    "execution": {
     "iopub.execute_input": "2024-01-08T19:08:28.930810Z",
     "iopub.status.busy": "2024-01-08T19:08:28.930154Z",
     "iopub.status.idle": "2024-01-08T19:08:28.939314Z",
     "shell.execute_reply": "2024-01-08T19:08:28.938227Z"
    },
    "papermill": {
     "duration": 0.022432,
     "end_time": "2024-01-08T19:08:28.941608",
     "exception": false,
     "start_time": "2024-01-08T19:08:28.919176",
     "status": "completed"
    },
    "tags": []
   },
   "outputs": [
    {
     "data": {
      "text/plain": [
       "233"
      ]
     },
     "execution_count": 10,
     "metadata": {},
     "output_type": "execute_result"
    }
   ],
   "source": [
    "tacos[tacos['Sex']=='female']['Survived'].sum()"
   ]
  },
  {
   "cell_type": "code",
   "execution_count": 11,
   "id": "3d614115",
   "metadata": {
    "execution": {
     "iopub.execute_input": "2024-01-08T19:08:28.962292Z",
     "iopub.status.busy": "2024-01-08T19:08:28.961902Z",
     "iopub.status.idle": "2024-01-08T19:08:28.970265Z",
     "shell.execute_reply": "2024-01-08T19:08:28.969227Z"
    },
    "papermill": {
     "duration": 0.020985,
     "end_time": "2024-01-08T19:08:28.972177",
     "exception": false,
     "start_time": "2024-01-08T19:08:28.951192",
     "status": "completed"
    },
    "tags": []
   },
   "outputs": [
    {
     "data": {
      "text/plain": [
       "109"
      ]
     },
     "execution_count": 11,
     "metadata": {},
     "output_type": "execute_result"
    }
   ],
   "source": [
    "tacos[tacos['Sex']=='male']['Survived'].sum()"
   ]
  },
  {
   "cell_type": "markdown",
   "id": "71a63a5a",
   "metadata": {
    "papermill": {
     "duration": 0.009527,
     "end_time": "2024-01-08T19:08:28.991533",
     "exception": false,
     "start_time": "2024-01-08T19:08:28.982006",
     "status": "completed"
    },
    "tags": []
   },
   "source": [
    "Checking which would be best to use when I use \"fillna\"."
   ]
  },
  {
   "cell_type": "code",
   "execution_count": 12,
   "id": "e952d58d",
   "metadata": {
    "execution": {
     "iopub.execute_input": "2024-01-08T19:08:29.013290Z",
     "iopub.status.busy": "2024-01-08T19:08:29.012217Z",
     "iopub.status.idle": "2024-01-08T19:08:29.023372Z",
     "shell.execute_reply": "2024-01-08T19:08:29.022334Z"
    },
    "papermill": {
     "duration": 0.024418,
     "end_time": "2024-01-08T19:08:29.025720",
     "exception": false,
     "start_time": "2024-01-08T19:08:29.001302",
     "status": "completed"
    },
    "tags": []
   },
   "outputs": [
    {
     "data": {
      "text/plain": [
       "(28.0, 29.69911764705882)"
      ]
     },
     "execution_count": 12,
     "metadata": {},
     "output_type": "execute_result"
    }
   ],
   "source": [
    "tacos['Age'].median(), tacos['Age'].mean()"
   ]
  },
  {
   "cell_type": "code",
   "execution_count": 13,
   "id": "60e72e0f",
   "metadata": {
    "execution": {
     "iopub.execute_input": "2024-01-08T19:08:29.047490Z",
     "iopub.status.busy": "2024-01-08T19:08:29.046828Z",
     "iopub.status.idle": "2024-01-08T19:08:29.053146Z",
     "shell.execute_reply": "2024-01-08T19:08:29.052400Z"
    },
    "papermill": {
     "duration": 0.019479,
     "end_time": "2024-01-08T19:08:29.055073",
     "exception": false,
     "start_time": "2024-01-08T19:08:29.035594",
     "status": "completed"
    },
    "tags": []
   },
   "outputs": [
    {
     "data": {
      "text/plain": [
       "(27.0, 30.272590361445783)"
      ]
     },
     "execution_count": 13,
     "metadata": {},
     "output_type": "execute_result"
    }
   ],
   "source": [
    "nachos['Age'].median(), nachos['Age'].mean()"
   ]
  },
  {
   "cell_type": "code",
   "execution_count": 14,
   "id": "3c142e19",
   "metadata": {
    "execution": {
     "iopub.execute_input": "2024-01-08T19:08:29.077039Z",
     "iopub.status.busy": "2024-01-08T19:08:29.076360Z",
     "iopub.status.idle": "2024-01-08T19:08:29.097120Z",
     "shell.execute_reply": "2024-01-08T19:08:29.096257Z"
    },
    "papermill": {
     "duration": 0.03413,
     "end_time": "2024-01-08T19:08:29.099186",
     "exception": false,
     "start_time": "2024-01-08T19:08:29.065056",
     "status": "completed"
    },
    "tags": []
   },
   "outputs": [
    {
     "data": {
      "text/html": [
       "<div>\n",
       "<style scoped>\n",
       "    .dataframe tbody tr th:only-of-type {\n",
       "        vertical-align: middle;\n",
       "    }\n",
       "\n",
       "    .dataframe tbody tr th {\n",
       "        vertical-align: top;\n",
       "    }\n",
       "\n",
       "    .dataframe thead th {\n",
       "        text-align: right;\n",
       "    }\n",
       "</style>\n",
       "<table border=\"1\" class=\"dataframe\">\n",
       "  <thead>\n",
       "    <tr style=\"text-align: right;\">\n",
       "      <th></th>\n",
       "      <th>PassengerId</th>\n",
       "      <th>Survived</th>\n",
       "      <th>Pclass</th>\n",
       "      <th>Name</th>\n",
       "      <th>Sex</th>\n",
       "      <th>Age</th>\n",
       "      <th>SibSp</th>\n",
       "      <th>Parch</th>\n",
       "      <th>Ticket</th>\n",
       "      <th>Fare</th>\n",
       "      <th>Cabin</th>\n",
       "      <th>Embarked</th>\n",
       "    </tr>\n",
       "  </thead>\n",
       "  <tbody>\n",
       "    <tr>\n",
       "      <th>0</th>\n",
       "      <td>1</td>\n",
       "      <td>0</td>\n",
       "      <td>3</td>\n",
       "      <td>Braund, Mr. Owen Harris</td>\n",
       "      <td>0</td>\n",
       "      <td>22.0</td>\n",
       "      <td>1</td>\n",
       "      <td>0</td>\n",
       "      <td>A/5 21171</td>\n",
       "      <td>7.2500</td>\n",
       "      <td>NaN</td>\n",
       "      <td>1.0</td>\n",
       "    </tr>\n",
       "    <tr>\n",
       "      <th>1</th>\n",
       "      <td>2</td>\n",
       "      <td>1</td>\n",
       "      <td>1</td>\n",
       "      <td>Cumings, Mrs. John Bradley (Florence Briggs Th...</td>\n",
       "      <td>1</td>\n",
       "      <td>38.0</td>\n",
       "      <td>1</td>\n",
       "      <td>0</td>\n",
       "      <td>PC 17599</td>\n",
       "      <td>71.2833</td>\n",
       "      <td>C85</td>\n",
       "      <td>2.0</td>\n",
       "    </tr>\n",
       "    <tr>\n",
       "      <th>2</th>\n",
       "      <td>3</td>\n",
       "      <td>1</td>\n",
       "      <td>3</td>\n",
       "      <td>Heikkinen, Miss. Laina</td>\n",
       "      <td>1</td>\n",
       "      <td>26.0</td>\n",
       "      <td>0</td>\n",
       "      <td>0</td>\n",
       "      <td>STON/O2. 3101282</td>\n",
       "      <td>7.9250</td>\n",
       "      <td>NaN</td>\n",
       "      <td>1.0</td>\n",
       "    </tr>\n",
       "    <tr>\n",
       "      <th>3</th>\n",
       "      <td>4</td>\n",
       "      <td>1</td>\n",
       "      <td>1</td>\n",
       "      <td>Futrelle, Mrs. Jacques Heath (Lily May Peel)</td>\n",
       "      <td>1</td>\n",
       "      <td>35.0</td>\n",
       "      <td>1</td>\n",
       "      <td>0</td>\n",
       "      <td>113803</td>\n",
       "      <td>53.1000</td>\n",
       "      <td>C123</td>\n",
       "      <td>1.0</td>\n",
       "    </tr>\n",
       "    <tr>\n",
       "      <th>4</th>\n",
       "      <td>5</td>\n",
       "      <td>0</td>\n",
       "      <td>3</td>\n",
       "      <td>Allen, Mr. William Henry</td>\n",
       "      <td>0</td>\n",
       "      <td>35.0</td>\n",
       "      <td>0</td>\n",
       "      <td>0</td>\n",
       "      <td>373450</td>\n",
       "      <td>8.0500</td>\n",
       "      <td>NaN</td>\n",
       "      <td>1.0</td>\n",
       "    </tr>\n",
       "  </tbody>\n",
       "</table>\n",
       "</div>"
      ],
      "text/plain": [
       "   PassengerId  Survived  Pclass  \\\n",
       "0            1         0       3   \n",
       "1            2         1       1   \n",
       "2            3         1       3   \n",
       "3            4         1       1   \n",
       "4            5         0       3   \n",
       "\n",
       "                                                Name  Sex   Age  SibSp  Parch  \\\n",
       "0                            Braund, Mr. Owen Harris    0  22.0      1      0   \n",
       "1  Cumings, Mrs. John Bradley (Florence Briggs Th...    1  38.0      1      0   \n",
       "2                             Heikkinen, Miss. Laina    1  26.0      0      0   \n",
       "3       Futrelle, Mrs. Jacques Heath (Lily May Peel)    1  35.0      1      0   \n",
       "4                           Allen, Mr. William Henry    0  35.0      0      0   \n",
       "\n",
       "             Ticket     Fare Cabin  Embarked  \n",
       "0         A/5 21171   7.2500   NaN       1.0  \n",
       "1          PC 17599  71.2833   C85       2.0  \n",
       "2  STON/O2. 3101282   7.9250   NaN       1.0  \n",
       "3            113803  53.1000  C123       1.0  \n",
       "4            373450   8.0500   NaN       1.0  "
      ]
     },
     "execution_count": 14,
     "metadata": {},
     "output_type": "execute_result"
    }
   ],
   "source": [
    "tacos.replace({'female':1, 'male':0}, inplace=True)\n",
    "tacos.replace({'S':1, 'C':2, 'Q':3}, inplace=True)\n",
    "tacos.head()"
   ]
  },
  {
   "cell_type": "code",
   "execution_count": 15,
   "id": "1c2558d4",
   "metadata": {
    "execution": {
     "iopub.execute_input": "2024-01-08T19:08:29.121781Z",
     "iopub.status.busy": "2024-01-08T19:08:29.121092Z",
     "iopub.status.idle": "2024-01-08T19:08:29.138373Z",
     "shell.execute_reply": "2024-01-08T19:08:29.137485Z"
    },
    "papermill": {
     "duration": 0.031238,
     "end_time": "2024-01-08T19:08:29.140676",
     "exception": false,
     "start_time": "2024-01-08T19:08:29.109438",
     "status": "completed"
    },
    "tags": []
   },
   "outputs": [
    {
     "data": {
      "text/html": [
       "<div>\n",
       "<style scoped>\n",
       "    .dataframe tbody tr th:only-of-type {\n",
       "        vertical-align: middle;\n",
       "    }\n",
       "\n",
       "    .dataframe tbody tr th {\n",
       "        vertical-align: top;\n",
       "    }\n",
       "\n",
       "    .dataframe thead th {\n",
       "        text-align: right;\n",
       "    }\n",
       "</style>\n",
       "<table border=\"1\" class=\"dataframe\">\n",
       "  <thead>\n",
       "    <tr style=\"text-align: right;\">\n",
       "      <th></th>\n",
       "      <th>PassengerId</th>\n",
       "      <th>Pclass</th>\n",
       "      <th>Name</th>\n",
       "      <th>Sex</th>\n",
       "      <th>Age</th>\n",
       "      <th>SibSp</th>\n",
       "      <th>Parch</th>\n",
       "      <th>Ticket</th>\n",
       "      <th>Fare</th>\n",
       "      <th>Cabin</th>\n",
       "      <th>Embarked</th>\n",
       "    </tr>\n",
       "  </thead>\n",
       "  <tbody>\n",
       "    <tr>\n",
       "      <th>0</th>\n",
       "      <td>892</td>\n",
       "      <td>3</td>\n",
       "      <td>Kelly, Mr. James</td>\n",
       "      <td>0</td>\n",
       "      <td>34.5</td>\n",
       "      <td>0</td>\n",
       "      <td>0</td>\n",
       "      <td>330911</td>\n",
       "      <td>7.8292</td>\n",
       "      <td>NaN</td>\n",
       "      <td>3</td>\n",
       "    </tr>\n",
       "    <tr>\n",
       "      <th>1</th>\n",
       "      <td>893</td>\n",
       "      <td>3</td>\n",
       "      <td>Wilkes, Mrs. James (Ellen Needs)</td>\n",
       "      <td>1</td>\n",
       "      <td>47.0</td>\n",
       "      <td>1</td>\n",
       "      <td>0</td>\n",
       "      <td>363272</td>\n",
       "      <td>7.0000</td>\n",
       "      <td>NaN</td>\n",
       "      <td>1</td>\n",
       "    </tr>\n",
       "    <tr>\n",
       "      <th>2</th>\n",
       "      <td>894</td>\n",
       "      <td>2</td>\n",
       "      <td>Myles, Mr. Thomas Francis</td>\n",
       "      <td>0</td>\n",
       "      <td>62.0</td>\n",
       "      <td>0</td>\n",
       "      <td>0</td>\n",
       "      <td>240276</td>\n",
       "      <td>9.6875</td>\n",
       "      <td>NaN</td>\n",
       "      <td>3</td>\n",
       "    </tr>\n",
       "    <tr>\n",
       "      <th>3</th>\n",
       "      <td>895</td>\n",
       "      <td>3</td>\n",
       "      <td>Wirz, Mr. Albert</td>\n",
       "      <td>0</td>\n",
       "      <td>27.0</td>\n",
       "      <td>0</td>\n",
       "      <td>0</td>\n",
       "      <td>315154</td>\n",
       "      <td>8.6625</td>\n",
       "      <td>NaN</td>\n",
       "      <td>1</td>\n",
       "    </tr>\n",
       "    <tr>\n",
       "      <th>4</th>\n",
       "      <td>896</td>\n",
       "      <td>3</td>\n",
       "      <td>Hirvonen, Mrs. Alexander (Helga E Lindqvist)</td>\n",
       "      <td>1</td>\n",
       "      <td>22.0</td>\n",
       "      <td>1</td>\n",
       "      <td>1</td>\n",
       "      <td>3101298</td>\n",
       "      <td>12.2875</td>\n",
       "      <td>NaN</td>\n",
       "      <td>1</td>\n",
       "    </tr>\n",
       "  </tbody>\n",
       "</table>\n",
       "</div>"
      ],
      "text/plain": [
       "   PassengerId  Pclass                                          Name  Sex  \\\n",
       "0          892       3                              Kelly, Mr. James    0   \n",
       "1          893       3              Wilkes, Mrs. James (Ellen Needs)    1   \n",
       "2          894       2                     Myles, Mr. Thomas Francis    0   \n",
       "3          895       3                              Wirz, Mr. Albert    0   \n",
       "4          896       3  Hirvonen, Mrs. Alexander (Helga E Lindqvist)    1   \n",
       "\n",
       "    Age  SibSp  Parch   Ticket     Fare Cabin  Embarked  \n",
       "0  34.5      0      0   330911   7.8292   NaN         3  \n",
       "1  47.0      1      0   363272   7.0000   NaN         1  \n",
       "2  62.0      0      0   240276   9.6875   NaN         3  \n",
       "3  27.0      0      0   315154   8.6625   NaN         1  \n",
       "4  22.0      1      1  3101298  12.2875   NaN         1  "
      ]
     },
     "execution_count": 15,
     "metadata": {},
     "output_type": "execute_result"
    }
   ],
   "source": [
    "nachos.replace({'female':1, 'male':0}, inplace=True)\n",
    "nachos.replace({'S':1, 'C':2, 'Q':3}, inplace=True)\n",
    "nachos.head()"
   ]
  },
  {
   "cell_type": "code",
   "execution_count": 16,
   "id": "2bc6c1a0",
   "metadata": {
    "execution": {
     "iopub.execute_input": "2024-01-08T19:08:29.224024Z",
     "iopub.status.busy": "2024-01-08T19:08:29.223609Z",
     "iopub.status.idle": "2024-01-08T19:08:29.234998Z",
     "shell.execute_reply": "2024-01-08T19:08:29.234218Z"
    },
    "papermill": {
     "duration": 0.025141,
     "end_time": "2024-01-08T19:08:29.237024",
     "exception": false,
     "start_time": "2024-01-08T19:08:29.211883",
     "status": "completed"
    },
    "tags": []
   },
   "outputs": [
    {
     "data": {
      "text/plain": [
       "PassengerId      0\n",
       "Survived         0\n",
       "Pclass           0\n",
       "Name             0\n",
       "Sex              0\n",
       "Age              0\n",
       "SibSp            0\n",
       "Parch            0\n",
       "Ticket           0\n",
       "Fare             0\n",
       "Cabin          687\n",
       "Embarked         0\n",
       "dtype: int64"
      ]
     },
     "execution_count": 16,
     "metadata": {},
     "output_type": "execute_result"
    }
   ],
   "source": [
    "tacos['Age'].fillna(tacos['Age'].mean(), inplace = True)\n",
    "tacos['Embarked'].fillna(tacos['Embarked'].mean(), inplace=True)\n",
    "tacos.isna().sum()"
   ]
  },
  {
   "cell_type": "code",
   "execution_count": 17,
   "id": "8921f07b",
   "metadata": {
    "execution": {
     "iopub.execute_input": "2024-01-08T19:08:29.260782Z",
     "iopub.status.busy": "2024-01-08T19:08:29.259687Z",
     "iopub.status.idle": "2024-01-08T19:08:29.269574Z",
     "shell.execute_reply": "2024-01-08T19:08:29.268829Z"
    },
    "papermill": {
     "duration": 0.023781,
     "end_time": "2024-01-08T19:08:29.271492",
     "exception": false,
     "start_time": "2024-01-08T19:08:29.247711",
     "status": "completed"
    },
    "tags": []
   },
   "outputs": [
    {
     "data": {
      "text/plain": [
       "PassengerId      0\n",
       "Pclass           0\n",
       "Name             0\n",
       "Sex              0\n",
       "Age              0\n",
       "SibSp            0\n",
       "Parch            0\n",
       "Ticket           0\n",
       "Fare             0\n",
       "Cabin          327\n",
       "Embarked         0\n",
       "dtype: int64"
      ]
     },
     "execution_count": 17,
     "metadata": {},
     "output_type": "execute_result"
    }
   ],
   "source": [
    "nachos['Age'].fillna(nachos['Age'].mean(), inplace = True)\n",
    "nachos['Fare'].fillna(nachos['Fare'].mean(), inplace=True)\n",
    "nachos.isna().sum()"
   ]
  },
  {
   "cell_type": "markdown",
   "id": "fdfa1e5e",
   "metadata": {
    "papermill": {
     "duration": 0.010466,
     "end_time": "2024-01-08T19:08:29.293489",
     "exception": false,
     "start_time": "2024-01-08T19:08:29.283023",
     "status": "completed"
    },
    "tags": []
   },
   "source": [
    "## <font color = 'blue'> Let's look at some visuals📊 </font>"
   ]
  },
  {
   "cell_type": "code",
   "execution_count": 18,
   "id": "d2bce18c",
   "metadata": {
    "execution": {
     "iopub.execute_input": "2024-01-08T19:08:29.317953Z",
     "iopub.status.busy": "2024-01-08T19:08:29.317354Z",
     "iopub.status.idle": "2024-01-08T19:08:30.532194Z",
     "shell.execute_reply": "2024-01-08T19:08:30.531095Z"
    },
    "papermill": {
     "duration": 1.229619,
     "end_time": "2024-01-08T19:08:30.534474",
     "exception": false,
     "start_time": "2024-01-08T19:08:29.304855",
     "status": "completed"
    },
    "tags": []
   },
   "outputs": [
    {
     "name": "stdout",
     "output_type": "stream",
     "text": [
      "Sex\n"
     ]
    },
    {
     "data": {
      "image/png": "[encoded data removed]",
      "text/plain": [
       "<Figure size 640x480 with 1 Axes>"
      ]
     },
     "metadata": {},
     "output_type": "display_data"
    },
    {
     "name": "stdout",
     "output_type": "stream",
     "text": [
      "\n",
      "Embarked\n"
     ]
    },
    {
     "data": {
      "image/png": "[encoded data removed]",
      "text/plain": [
       "<Figure size 640x480 with 1 Axes>"
      ]
     },
     "metadata": {},
     "output_type": "display_data"
    },
    {
     "name": "stdout",
     "output_type": "stream",
     "text": [
      "\n",
      "Pclass\n"
     ]
    },
    {
     "data": {
      "image/png": "[encoded data removed]",
      "text/plain": [
       "<Figure size 640x480 with 1 Axes>"
      ]
     },
     "metadata": {},
     "output_type": "display_data"
    },
    {
     "name": "stdout",
     "output_type": "stream",
     "text": [
      "\n",
      "SibSp\n"
     ]
    },
    {
     "data": {
      "image/png": "[encoded data removed]",
      "text/plain": [
       "<Figure size 640x480 with 1 Axes>"
      ]
     },
     "metadata": {},
     "output_type": "display_data"
    },
    {
     "name": "stdout",
     "output_type": "stream",
     "text": [
      "\n",
      "Parch\n"
     ]
    },
    {
     "data": {
      "image/png": "[encoded data removed]",
      "text/plain": [
       "<Figure size 640x480 with 1 Axes>"
      ]
     },
     "metadata": {},
     "output_type": "display_data"
    },
    {
     "name": "stdout",
     "output_type": "stream",
     "text": [
      "\n"
     ]
    }
   ],
   "source": [
    "for column_name in ['Sex','Embarked','Pclass', 'SibSp', 'Parch']:\n",
    "    print(column_name)\n",
    "    sns.countplot(data=tacos, x=column_name, hue='Survived', palette='twilight')\n",
    "    plt.show()\n",
    "    print(\"\")"
   ]
  },
  {
   "cell_type": "code",
   "execution_count": 19,
   "id": "35992e64",
   "metadata": {
    "execution": {
     "iopub.execute_input": "2024-01-08T19:08:30.562534Z",
     "iopub.status.busy": "2024-01-08T19:08:30.562114Z",
     "iopub.status.idle": "2024-01-08T19:08:30.887142Z",
     "shell.execute_reply": "2024-01-08T19:08:30.886005Z"
    },
    "papermill": {
     "duration": 0.342083,
     "end_time": "2024-01-08T19:08:30.889569",
     "exception": false,
     "start_time": "2024-01-08T19:08:30.547486",
     "status": "completed"
    },
    "tags": []
   },
   "outputs": [
    {
     "data": {
      "text/plain": [
       "<Axes: xlabel='Age', ylabel='Count'>"
      ]
     },
     "execution_count": 19,
     "metadata": {},
     "output_type": "execute_result"
    },
    {
     "data": {
      "image/png": "[encoded data removed]",
      "text/plain": [
       "<Figure size 640x480 with 1 Axes>"
      ]
     },
     "metadata": {},
     "output_type": "display_data"
    }
   ],
   "source": [
    "sns.histplot(tacos['Age'], color = 'blue', edgecolor = 'purple')"
   ]
  },
  {
   "cell_type": "code",
   "execution_count": 20,
   "id": "1271beec",
   "metadata": {
    "execution": {
     "iopub.execute_input": "2024-01-08T19:08:30.918100Z",
     "iopub.status.busy": "2024-01-08T19:08:30.917711Z",
     "iopub.status.idle": "2024-01-08T19:08:31.144766Z",
     "shell.execute_reply": "2024-01-08T19:08:31.143910Z"
    },
    "papermill": {
     "duration": 0.244008,
     "end_time": "2024-01-08T19:08:31.146999",
     "exception": false,
     "start_time": "2024-01-08T19:08:30.902991",
     "status": "completed"
    },
    "tags": []
   },
   "outputs": [
    {
     "data": {
      "text/plain": [
       "<Axes: xlabel='Survived'>"
      ]
     },
     "execution_count": 20,
     "metadata": {},
     "output_type": "execute_result"
    },
    {
     "data": {
      "image/png": "[encoded data removed]",
      "text/plain": [
       "<Figure size 640x480 with 1 Axes>"
      ]
     },
     "metadata": {},
     "output_type": "display_data"
    }
   ],
   "source": [
    "tacos.Survived.value_counts().plot.bar(color = 'purple', edgecolor = 'blue')"
   ]
  },
  {
   "cell_type": "code",
   "execution_count": 21,
   "id": "bce582c6",
   "metadata": {
    "execution": {
     "iopub.execute_input": "2024-01-08T19:08:31.177444Z",
     "iopub.status.busy": "2024-01-08T19:08:31.176603Z",
     "iopub.status.idle": "2024-01-08T19:08:31.190808Z",
     "shell.execute_reply": "2024-01-08T19:08:31.189676Z"
    },
    "papermill": {
     "duration": 0.031834,
     "end_time": "2024-01-08T19:08:31.193100",
     "exception": false,
     "start_time": "2024-01-08T19:08:31.161266",
     "status": "completed"
    },
    "tags": []
   },
   "outputs": [
    {
     "data": {
      "text/html": [
       "<div>\n",
       "<style scoped>\n",
       "    .dataframe tbody tr th:only-of-type {\n",
       "        vertical-align: middle;\n",
       "    }\n",
       "\n",
       "    .dataframe tbody tr th {\n",
       "        vertical-align: top;\n",
       "    }\n",
       "\n",
       "    .dataframe thead th {\n",
       "        text-align: right;\n",
       "    }\n",
       "</style>\n",
       "<table border=\"1\" class=\"dataframe\">\n",
       "  <thead>\n",
       "    <tr style=\"text-align: right;\">\n",
       "      <th></th>\n",
       "      <th>Survived</th>\n",
       "      <th>Pclass</th>\n",
       "      <th>Sex</th>\n",
       "      <th>Age</th>\n",
       "      <th>Fare</th>\n",
       "      <th>Embarked</th>\n",
       "    </tr>\n",
       "  </thead>\n",
       "  <tbody>\n",
       "    <tr>\n",
       "      <th>0</th>\n",
       "      <td>0</td>\n",
       "      <td>3</td>\n",
       "      <td>0</td>\n",
       "      <td>22.0</td>\n",
       "      <td>7.2500</td>\n",
       "      <td>1.0</td>\n",
       "    </tr>\n",
       "    <tr>\n",
       "      <th>1</th>\n",
       "      <td>1</td>\n",
       "      <td>1</td>\n",
       "      <td>1</td>\n",
       "      <td>38.0</td>\n",
       "      <td>71.2833</td>\n",
       "      <td>2.0</td>\n",
       "    </tr>\n",
       "    <tr>\n",
       "      <th>2</th>\n",
       "      <td>1</td>\n",
       "      <td>3</td>\n",
       "      <td>1</td>\n",
       "      <td>26.0</td>\n",
       "      <td>7.9250</td>\n",
       "      <td>1.0</td>\n",
       "    </tr>\n",
       "    <tr>\n",
       "      <th>3</th>\n",
       "      <td>1</td>\n",
       "      <td>1</td>\n",
       "      <td>1</td>\n",
       "      <td>35.0</td>\n",
       "      <td>53.1000</td>\n",
       "      <td>1.0</td>\n",
       "    </tr>\n",
       "    <tr>\n",
       "      <th>4</th>\n",
       "      <td>0</td>\n",
       "      <td>3</td>\n",
       "      <td>0</td>\n",
       "      <td>35.0</td>\n",
       "      <td>8.0500</td>\n",
       "      <td>1.0</td>\n",
       "    </tr>\n",
       "  </tbody>\n",
       "</table>\n",
       "</div>"
      ],
      "text/plain": [
       "   Survived  Pclass  Sex   Age     Fare  Embarked\n",
       "0         0       3    0  22.0   7.2500       1.0\n",
       "1         1       1    1  38.0  71.2833       2.0\n",
       "2         1       3    1  26.0   7.9250       1.0\n",
       "3         1       1    1  35.0  53.1000       1.0\n",
       "4         0       3    0  35.0   8.0500       1.0"
      ]
     },
     "execution_count": 21,
     "metadata": {},
     "output_type": "execute_result"
    }
   ],
   "source": [
    "celine = tacos.drop(columns = ['PassengerId', 'Name', 'Cabin', 'Ticket', 'SibSp', 'Parch'])\n",
    "celine.head()"
   ]
  },
  {
   "cell_type": "code",
   "execution_count": 22,
   "id": "a5d83850",
   "metadata": {
    "execution": {
     "iopub.execute_input": "2024-01-08T19:08:31.223612Z",
     "iopub.status.busy": "2024-01-08T19:08:31.223230Z",
     "iopub.status.idle": "2024-01-08T19:08:31.230395Z",
     "shell.execute_reply": "2024-01-08T19:08:31.229298Z"
    },
    "papermill": {
     "duration": 0.025078,
     "end_time": "2024-01-08T19:08:31.232659",
     "exception": false,
     "start_time": "2024-01-08T19:08:31.207581",
     "status": "completed"
    },
    "tags": []
   },
   "outputs": [],
   "source": [
    "iceburg = celine.corr()"
   ]
  },
  {
   "cell_type": "code",
   "execution_count": 23,
   "id": "ecda5b64",
   "metadata": {
    "execution": {
     "iopub.execute_input": "2024-01-08T19:08:31.262802Z",
     "iopub.status.busy": "2024-01-08T19:08:31.262388Z",
     "iopub.status.idle": "2024-01-08T19:08:31.698763Z",
     "shell.execute_reply": "2024-01-08T19:08:31.697657Z"
    },
    "papermill": {
     "duration": 0.454665,
     "end_time": "2024-01-08T19:08:31.701439",
     "exception": false,
     "start_time": "2024-01-08T19:08:31.246774",
     "status": "completed"
    },
    "tags": []
   },
   "outputs": [
    {
     "data": {
      "text/plain": [
       "<Axes: >"
      ]
     },
     "execution_count": 23,
     "metadata": {},
     "output_type": "execute_result"
    },
    {
     "data": {
      "image/png": "[encoded data removed]",
      "text/plain": [
       "<Figure size 640x480 with 2 Axes>"
      ]
     },
     "metadata": {},
     "output_type": "display_data"
    }
   ],
   "source": [
    "sns.heatmap((iceburg), vmin=-1, vmax=1, cmap='twilight', annot=True)"
   ]
  },
  {
   "cell_type": "code",
   "execution_count": 24,
   "id": "44afda44",
   "metadata": {
    "execution": {
     "iopub.execute_input": "2024-01-08T19:08:31.733714Z",
     "iopub.status.busy": "2024-01-08T19:08:31.733328Z",
     "iopub.status.idle": "2024-01-08T19:08:31.756261Z",
     "shell.execute_reply": "2024-01-08T19:08:31.755325Z"
    },
    "papermill": {
     "duration": 0.041817,
     "end_time": "2024-01-08T19:08:31.758558",
     "exception": false,
     "start_time": "2024-01-08T19:08:31.716741",
     "status": "completed"
    },
    "tags": []
   },
   "outputs": [
    {
     "data": {
      "text/html": [
       "<div>\n",
       "<style scoped>\n",
       "    .dataframe tbody tr th:only-of-type {\n",
       "        vertical-align: middle;\n",
       "    }\n",
       "\n",
       "    .dataframe tbody tr th {\n",
       "        vertical-align: top;\n",
       "    }\n",
       "\n",
       "    .dataframe thead th {\n",
       "        text-align: right;\n",
       "    }\n",
       "</style>\n",
       "<table border=\"1\" class=\"dataframe\">\n",
       "  <thead>\n",
       "    <tr style=\"text-align: right;\">\n",
       "      <th></th>\n",
       "      <th>Age</th>\n",
       "      <th>Embarked</th>\n",
       "      <th>Fare</th>\n",
       "      <th>Pclass</th>\n",
       "      <th>Sex</th>\n",
       "    </tr>\n",
       "    <tr>\n",
       "      <th>Survived</th>\n",
       "      <th></th>\n",
       "      <th></th>\n",
       "      <th></th>\n",
       "      <th></th>\n",
       "      <th></th>\n",
       "    </tr>\n",
       "  </thead>\n",
       "  <tbody>\n",
       "    <tr>\n",
       "      <th>0</th>\n",
       "      <td>30.415100</td>\n",
       "      <td>1.307832</td>\n",
       "      <td>22.117887</td>\n",
       "      <td>2.531876</td>\n",
       "      <td>0.147541</td>\n",
       "    </tr>\n",
       "    <tr>\n",
       "      <th>1</th>\n",
       "      <td>28.549778</td>\n",
       "      <td>1.449487</td>\n",
       "      <td>48.395408</td>\n",
       "      <td>1.950292</td>\n",
       "      <td>0.681287</td>\n",
       "    </tr>\n",
       "  </tbody>\n",
       "</table>\n",
       "</div>"
      ],
      "text/plain": [
       "                Age  Embarked       Fare    Pclass       Sex\n",
       "Survived                                                    \n",
       "0         30.415100  1.307832  22.117887  2.531876  0.147541\n",
       "1         28.549778  1.449487  48.395408  1.950292  0.681287"
      ]
     },
     "execution_count": 24,
     "metadata": {},
     "output_type": "execute_result"
    }
   ],
   "source": [
    "taco_pivot = pd.pivot_table(tacos, index = 'Survived', values = ['Pclass', 'Sex', 'Age', 'Fare', 'Embarked'])\n",
    "taco_pivot"
   ]
  },
  {
   "cell_type": "markdown",
   "id": "f751eaca",
   "metadata": {
    "papermill": {
     "duration": 0.014783,
     "end_time": "2024-01-08T19:08:31.790128",
     "exception": false,
     "start_time": "2024-01-08T19:08:31.775345",
     "status": "completed"
    },
    "tags": []
   },
   "source": [
    "Besides the fact that women and children were first on the life boats, looking at the information it seems that it also depended on the class of a person that had survived, as shown below. First class people were more likely to survive than that of Second and Third class citizen. "
   ]
  },
  {
   "cell_type": "markdown",
   "id": "eea3ecd6",
   "metadata": {
    "papermill": {
     "duration": 0.015239,
     "end_time": "2024-01-08T19:08:31.820383",
     "exception": false,
     "start_time": "2024-01-08T19:08:31.805144",
     "status": "completed"
    },
    "tags": []
   },
   "source": [
    "### <font color = 'purple'> Percentage of Different Class Survivors </font>"
   ]
  },
  {
   "cell_type": "code",
   "execution_count": 25,
   "id": "f99ffe85",
   "metadata": {
    "execution": {
     "iopub.execute_input": "2024-01-08T19:08:31.852998Z",
     "iopub.status.busy": "2024-01-08T19:08:31.852581Z",
     "iopub.status.idle": "2024-01-08T19:08:31.859507Z",
     "shell.execute_reply": "2024-01-08T19:08:31.858427Z"
    },
    "papermill": {
     "duration": 0.026549,
     "end_time": "2024-01-08T19:08:31.862158",
     "exception": false,
     "start_time": "2024-01-08T19:08:31.835609",
     "status": "completed"
    },
    "tags": []
   },
   "outputs": [
    {
     "name": "stdout",
     "output_type": "stream",
     "text": [
      "Percentage of 1st Class who Survived: 0.6296296296296297\n"
     ]
    }
   ],
   "source": [
    "guest = tacos.loc[tacos.Pclass == 1]['Survived']\n",
    "guest_1class = sum(guest)/len(guest)\n",
    "print (\"Percentage of 1st Class who Survived:\", guest_1class)"
   ]
  },
  {
   "cell_type": "code",
   "execution_count": 26,
   "id": "e26b98ba",
   "metadata": {
    "execution": {
     "iopub.execute_input": "2024-01-08T19:08:31.894587Z",
     "iopub.status.busy": "2024-01-08T19:08:31.893949Z",
     "iopub.status.idle": "2024-01-08T19:08:31.901068Z",
     "shell.execute_reply": "2024-01-08T19:08:31.899831Z"
    },
    "papermill": {
     "duration": 0.026155,
     "end_time": "2024-01-08T19:08:31.903695",
     "exception": false,
     "start_time": "2024-01-08T19:08:31.877540",
     "status": "completed"
    },
    "tags": []
   },
   "outputs": [
    {
     "name": "stdout",
     "output_type": "stream",
     "text": [
      "Percentage of 2nd Class who Survived: 0.47282608695652173\n"
     ]
    }
   ],
   "source": [
    "guest2 = tacos.loc[tacos.Pclass == 2]['Survived']\n",
    "guest_2class = sum(guest2)/len(guest2)\n",
    "print (\"Percentage of 2nd Class who Survived:\", guest_2class)"
   ]
  },
  {
   "cell_type": "code",
   "execution_count": 27,
   "id": "1f52d207",
   "metadata": {
    "execution": {
     "iopub.execute_input": "2024-01-08T19:08:31.936016Z",
     "iopub.status.busy": "2024-01-08T19:08:31.935620Z",
     "iopub.status.idle": "2024-01-08T19:08:31.942819Z",
     "shell.execute_reply": "2024-01-08T19:08:31.941504Z"
    },
    "papermill": {
     "duration": 0.025675,
     "end_time": "2024-01-08T19:08:31.944851",
     "exception": false,
     "start_time": "2024-01-08T19:08:31.919176",
     "status": "completed"
    },
    "tags": []
   },
   "outputs": [
    {
     "name": "stdout",
     "output_type": "stream",
     "text": [
      "Percentage of 3rd Class who Survived: 0.24236252545824846\n"
     ]
    }
   ],
   "source": [
    "guest3 = tacos.loc[tacos.Pclass == 3]['Survived']\n",
    "guest_3class = sum(guest3)/len(guest3)\n",
    "print (\"Percentage of 3rd Class who Survived:\", guest_3class)"
   ]
  },
  {
   "cell_type": "markdown",
   "id": "898501c0",
   "metadata": {
    "papermill": {
     "duration": 0.015415,
     "end_time": "2024-01-08T19:08:31.975613",
     "exception": false,
     "start_time": "2024-01-08T19:08:31.960198",
     "status": "completed"
    },
    "tags": []
   },
   "source": [
    "## <font color= 'blue'> The Prediction Model🔮</font>"
   ]
  },
  {
   "cell_type": "code",
   "execution_count": 28,
   "id": "1b370890",
   "metadata": {
    "execution": {
     "iopub.execute_input": "2024-01-08T19:08:32.008040Z",
     "iopub.status.busy": "2024-01-08T19:08:32.007646Z",
     "iopub.status.idle": "2024-01-08T19:08:32.222528Z",
     "shell.execute_reply": "2024-01-08T19:08:32.221339Z"
    },
    "papermill": {
     "duration": 0.233741,
     "end_time": "2024-01-08T19:08:32.224709",
     "exception": false,
     "start_time": "2024-01-08T19:08:31.990968",
     "status": "completed"
    },
    "tags": []
   },
   "outputs": [
    {
     "name": "stdout",
     "output_type": "stream",
     "text": [
      "Submission Sucessful!!!\n"
     ]
    },
    {
     "data": {
      "text/plain": [
       "(None,\n",
       "      PassengerId  Survived\n",
       " 0            892         0\n",
       " 1            893         0\n",
       " 2            894         0\n",
       " 3            895         0\n",
       " 4            896         0\n",
       " ..           ...       ...\n",
       " 413         1305         0\n",
       " 414         1306         1\n",
       " 415         1307         0\n",
       " 416         1308         0\n",
       " 417         1309         0\n",
       " \n",
       " [418 rows x 2 columns])"
      ]
     },
     "execution_count": 28,
     "metadata": {},
     "output_type": "execute_result"
    }
   ],
   "source": [
    "from sklearn.ensemble import RandomForestClassifier\n",
    "\n",
    "y = tacos[\"Survived\"]\n",
    "\n",
    "features = [\"Pclass\", \"Sex\", \"Age\", \"Embarked\"]\n",
    "X = pd.get_dummies(tacos[features])\n",
    "X_test = pd.get_dummies(nachos[features])\n",
    "\n",
    "model = RandomForestClassifier(n_estimators=100, max_depth=5, random_state=1)\n",
    "model.fit(X, y)\n",
    "predictions = model.predict(X_test)\n",
    "\n",
    "output = pd.DataFrame({'PassengerId': nachos.PassengerId, 'Survived': predictions})\n",
    "output.to_csv('submission.csv', index=False)\n",
    "print('Submission Sucessful!!!'), output"
   ]
  },
  {
   "cell_type": "code",
   "execution_count": null,
   "id": "95ed71c4",
   "metadata": {
    "papermill": {
     "duration": 0.01604,
     "end_time": "2024-01-08T19:08:32.256393",
     "exception": false,
     "start_time": "2024-01-08T19:08:32.240353",
     "status": "completed"
    },
    "tags": []
   },
   "outputs": [],
   "source": []
  }
 ],
 "metadata": {
  "kaggle": {
   "accelerator": "none",
   "dataSources": [
    {
     "datasetId": 3989140,
     "sourceId": 6945943,
     "sourceType": "datasetVersion"
    }
   ],
   "dockerImageVersionId": 30626,
   "isGpuEnabled": false,
   "isInternetEnabled": true,
   "language": "python",
   "sourceType": "notebook"
  },
  "kernelspec": {
   "display_name": "Python 3",
   "language": "python",
   "name": "python3"
  },
  "language_info": {
   "codemirror_mode": {
    "name": "ipython",
    "version": 3
   },
   "file_extension": ".py",
   "mimetype": "text/x-python",
   "name": "python",
   "nbconvert_exporter": "python",
   "pygments_lexer": "ipython3",
   "version": "3.10.12"
  },
  "papermill": {
   "default_parameters": {},
   "duration": 9.747305,
   "end_time": "2024-01-08T19:08:32.993398",
   "environment_variables": {},
   "exception": null,
   "input_path": "__notebook__.ipynb",
   "output_path": "__notebook__.ipynb",
   "parameters": {},
   "start_time": "2024-01-08T19:08:23.246093",
   "version": "2.4.0"
  }
 },
 "nbformat": 4,
 "nbformat_minor": 5
}
