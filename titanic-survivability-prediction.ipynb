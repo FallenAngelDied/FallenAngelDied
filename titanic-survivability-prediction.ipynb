{
 "cells": [
  {
   "cell_type": "markdown",
   "id": "f7154928",
   "metadata": {
    "papermill": {
     "duration": 0.016868,
     "end_time": "2023-12-17T07:23:52.381492",
     "exception": false,
     "start_time": "2023-12-17T07:23:52.364624",
     "status": "completed"
    },
    "tags": []
   },
   "source": [
    "# Titanic Survivability Prediction"
   ]
  },
  {
   "cell_type": "markdown",
   "id": "a56ae58e",
   "metadata": {
    "papermill": {
     "duration": 0.015627,
     "end_time": "2023-12-17T07:23:52.413238",
     "exception": false,
     "start_time": "2023-12-17T07:23:52.397611",
     "status": "completed"
    },
    "tags": []
   },
   "source": [
    "## <span style=\"color:blue\">Import libraries </span>\n"
   ]
  },
  {
   "cell_type": "code",
   "execution_count": 1,
   "id": "2f200b4a",
   "metadata": {
    "_cell_guid": "b1076dfc-b9ad-4769-8c92-a6c4dae69d19",
    "_uuid": "8f2839f25d086af736a60e9eeb907d3b93b6e0e5",
    "execution": {
     "iopub.execute_input": "2023-12-17T07:23:52.447711Z",
     "iopub.status.busy": "2023-12-17T07:23:52.446887Z",
     "iopub.status.idle": "2023-12-17T07:23:55.292306Z",
     "shell.execute_reply": "2023-12-17T07:23:55.290740Z"
    },
    "papermill": {
     "duration": 2.86673,
     "end_time": "2023-12-17T07:23:55.295879",
     "exception": false,
     "start_time": "2023-12-17T07:23:52.429149",
     "status": "completed"
    },
    "tags": []
   },
   "outputs": [],
   "source": [
    "import pandas as pd\n",
    "import numpy as np\n",
    "import matplotlib.pyplot as plt\n",
    "import seaborn as sns\n",
    "from sklearn.ensemble import RandomForestClassifier\n",
    "from sklearn.linear_model import LogisticRegression\n",
    "from sklearn.model_selection import cross_val_score"
   ]
  },
  {
   "cell_type": "markdown",
   "id": "75bc7ee5",
   "metadata": {
    "papermill": {
     "duration": 0.016414,
     "end_time": "2023-12-17T07:23:55.328594",
     "exception": false,
     "start_time": "2023-12-17T07:23:55.312180",
     "status": "completed"
    },
    "tags": []
   },
   "source": [
    "### Load .csv 'train' and 'test'"
   ]
  },
  {
   "cell_type": "code",
   "execution_count": 2,
   "id": "f37f7f16",
   "metadata": {
    "execution": {
     "iopub.execute_input": "2023-12-17T07:23:55.363599Z",
     "iopub.status.busy": "2023-12-17T07:23:55.362919Z",
     "iopub.status.idle": "2023-12-17T07:23:55.405204Z",
     "shell.execute_reply": "2023-12-17T07:23:55.404083Z"
    },
    "papermill": {
     "duration": 0.063471,
     "end_time": "2023-12-17T07:23:55.408464",
     "exception": false,
     "start_time": "2023-12-17T07:23:55.344993",
     "status": "completed"
    },
    "tags": []
   },
   "outputs": [],
   "source": [
    "tacos, nachos = pd.read_csv('/kaggle/input/train-csv/train.csv'),pd.read_csv('/kaggle/input/test-csv/test.csv')"
   ]
  },
  {
   "cell_type": "markdown",
   "id": "fa953a43",
   "metadata": {
    "papermill": {
     "duration": 0.015673,
     "end_time": "2023-12-17T07:23:55.441323",
     "exception": false,
     "start_time": "2023-12-17T07:23:55.425650",
     "status": "completed"
    },
    "tags": []
   },
   "source": [
    "## <span style=\"color:green\">Analyzing the data</span>"
   ]
  },
  {
   "cell_type": "code",
   "execution_count": 3,
   "id": "bfa235d2",
   "metadata": {
    "execution": {
     "iopub.execute_input": "2023-12-17T07:23:55.476747Z",
     "iopub.status.busy": "2023-12-17T07:23:55.475253Z",
     "iopub.status.idle": "2023-12-17T07:23:55.511403Z",
     "shell.execute_reply": "2023-12-17T07:23:55.509896Z"
    },
    "papermill": {
     "duration": 0.056729,
     "end_time": "2023-12-17T07:23:55.514116",
     "exception": false,
     "start_time": "2023-12-17T07:23:55.457387",
     "status": "completed"
    },
    "tags": []
   },
   "outputs": [
    {
     "data": {
      "text/html": [
       "<div>\n",
       "<style scoped>\n",
       "    .dataframe tbody tr th:only-of-type {\n",
       "        vertical-align: middle;\n",
       "    }\n",
       "\n",
       "    .dataframe tbody tr th {\n",
       "        vertical-align: top;\n",
       "    }\n",
       "\n",
       "    .dataframe thead th {\n",
       "        text-align: right;\n",
       "    }\n",
       "</style>\n",
       "<table border=\"1\" class=\"dataframe\">\n",
       "  <thead>\n",
       "    <tr style=\"text-align: right;\">\n",
       "      <th></th>\n",
       "      <th>PassengerId</th>\n",
       "      <th>Survived</th>\n",
       "      <th>Pclass</th>\n",
       "      <th>Name</th>\n",
       "      <th>Sex</th>\n",
       "      <th>Age</th>\n",
       "      <th>SibSp</th>\n",
       "      <th>Parch</th>\n",
       "      <th>Ticket</th>\n",
       "      <th>Fare</th>\n",
       "      <th>Cabin</th>\n",
       "      <th>Embarked</th>\n",
       "    </tr>\n",
       "  </thead>\n",
       "  <tbody>\n",
       "    <tr>\n",
       "      <th>0</th>\n",
       "      <td>1</td>\n",
       "      <td>0</td>\n",
       "      <td>3</td>\n",
       "      <td>Braund, Mr. Owen Harris</td>\n",
       "      <td>male</td>\n",
       "      <td>22.0</td>\n",
       "      <td>1</td>\n",
       "      <td>0</td>\n",
       "      <td>A/5 21171</td>\n",
       "      <td>7.2500</td>\n",
       "      <td>NaN</td>\n",
       "      <td>S</td>\n",
       "    </tr>\n",
       "    <tr>\n",
       "      <th>1</th>\n",
       "      <td>2</td>\n",
       "      <td>1</td>\n",
       "      <td>1</td>\n",
       "      <td>Cumings, Mrs. John Bradley (Florence Briggs Th...</td>\n",
       "      <td>female</td>\n",
       "      <td>38.0</td>\n",
       "      <td>1</td>\n",
       "      <td>0</td>\n",
       "      <td>PC 17599</td>\n",
       "      <td>71.2833</td>\n",
       "      <td>C85</td>\n",
       "      <td>C</td>\n",
       "    </tr>\n",
       "    <tr>\n",
       "      <th>2</th>\n",
       "      <td>3</td>\n",
       "      <td>1</td>\n",
       "      <td>3</td>\n",
       "      <td>Heikkinen, Miss. Laina</td>\n",
       "      <td>female</td>\n",
       "      <td>26.0</td>\n",
       "      <td>0</td>\n",
       "      <td>0</td>\n",
       "      <td>STON/O2. 3101282</td>\n",
       "      <td>7.9250</td>\n",
       "      <td>NaN</td>\n",
       "      <td>S</td>\n",
       "    </tr>\n",
       "    <tr>\n",
       "      <th>3</th>\n",
       "      <td>4</td>\n",
       "      <td>1</td>\n",
       "      <td>1</td>\n",
       "      <td>Futrelle, Mrs. Jacques Heath (Lily May Peel)</td>\n",
       "      <td>female</td>\n",
       "      <td>35.0</td>\n",
       "      <td>1</td>\n",
       "      <td>0</td>\n",
       "      <td>113803</td>\n",
       "      <td>53.1000</td>\n",
       "      <td>C123</td>\n",
       "      <td>S</td>\n",
       "    </tr>\n",
       "    <tr>\n",
       "      <th>4</th>\n",
       "      <td>5</td>\n",
       "      <td>0</td>\n",
       "      <td>3</td>\n",
       "      <td>Allen, Mr. William Henry</td>\n",
       "      <td>male</td>\n",
       "      <td>35.0</td>\n",
       "      <td>0</td>\n",
       "      <td>0</td>\n",
       "      <td>373450</td>\n",
       "      <td>8.0500</td>\n",
       "      <td>NaN</td>\n",
       "      <td>S</td>\n",
       "    </tr>\n",
       "  </tbody>\n",
       "</table>\n",
       "</div>"
      ],
      "text/plain": [
       "   PassengerId  Survived  Pclass  \\\n",
       "0            1         0       3   \n",
       "1            2         1       1   \n",
       "2            3         1       3   \n",
       "3            4         1       1   \n",
       "4            5         0       3   \n",
       "\n",
       "                                                Name     Sex   Age  SibSp  \\\n",
       "0                            Braund, Mr. Owen Harris    male  22.0      1   \n",
       "1  Cumings, Mrs. John Bradley (Florence Briggs Th...  female  38.0      1   \n",
       "2                             Heikkinen, Miss. Laina  female  26.0      0   \n",
       "3       Futrelle, Mrs. Jacques Heath (Lily May Peel)  female  35.0      1   \n",
       "4                           Allen, Mr. William Henry    male  35.0      0   \n",
       "\n",
       "   Parch            Ticket     Fare Cabin Embarked  \n",
       "0      0         A/5 21171   7.2500   NaN        S  \n",
       "1      0          PC 17599  71.2833   C85        C  \n",
       "2      0  STON/O2. 3101282   7.9250   NaN        S  \n",
       "3      0            113803  53.1000  C123        S  \n",
       "4      0            373450   8.0500   NaN        S  "
      ]
     },
     "execution_count": 3,
     "metadata": {},
     "output_type": "execute_result"
    }
   ],
   "source": [
    "tacos.head(5)"
   ]
  },
  {
   "cell_type": "code",
   "execution_count": 4,
   "id": "1f7e25a5",
   "metadata": {
    "execution": {
     "iopub.execute_input": "2023-12-17T07:23:55.548486Z",
     "iopub.status.busy": "2023-12-17T07:23:55.547997Z",
     "iopub.status.idle": "2023-12-17T07:23:55.567539Z",
     "shell.execute_reply": "2023-12-17T07:23:55.565869Z"
    },
    "papermill": {
     "duration": 0.039935,
     "end_time": "2023-12-17T07:23:55.570230",
     "exception": false,
     "start_time": "2023-12-17T07:23:55.530295",
     "status": "completed"
    },
    "tags": []
   },
   "outputs": [
    {
     "data": {
      "text/html": [
       "<div>\n",
       "<style scoped>\n",
       "    .dataframe tbody tr th:only-of-type {\n",
       "        vertical-align: middle;\n",
       "    }\n",
       "\n",
       "    .dataframe tbody tr th {\n",
       "        vertical-align: top;\n",
       "    }\n",
       "\n",
       "    .dataframe thead th {\n",
       "        text-align: right;\n",
       "    }\n",
       "</style>\n",
       "<table border=\"1\" class=\"dataframe\">\n",
       "  <thead>\n",
       "    <tr style=\"text-align: right;\">\n",
       "      <th></th>\n",
       "      <th>PassengerId</th>\n",
       "      <th>Pclass</th>\n",
       "      <th>Name</th>\n",
       "      <th>Sex</th>\n",
       "      <th>Age</th>\n",
       "      <th>SibSp</th>\n",
       "      <th>Parch</th>\n",
       "      <th>Ticket</th>\n",
       "      <th>Fare</th>\n",
       "      <th>Cabin</th>\n",
       "      <th>Embarked</th>\n",
       "    </tr>\n",
       "  </thead>\n",
       "  <tbody>\n",
       "    <tr>\n",
       "      <th>0</th>\n",
       "      <td>892</td>\n",
       "      <td>3</td>\n",
       "      <td>Kelly, Mr. James</td>\n",
       "      <td>male</td>\n",
       "      <td>34.5</td>\n",
       "      <td>0</td>\n",
       "      <td>0</td>\n",
       "      <td>330911</td>\n",
       "      <td>7.8292</td>\n",
       "      <td>NaN</td>\n",
       "      <td>Q</td>\n",
       "    </tr>\n",
       "    <tr>\n",
       "      <th>1</th>\n",
       "      <td>893</td>\n",
       "      <td>3</td>\n",
       "      <td>Wilkes, Mrs. James (Ellen Needs)</td>\n",
       "      <td>female</td>\n",
       "      <td>47.0</td>\n",
       "      <td>1</td>\n",
       "      <td>0</td>\n",
       "      <td>363272</td>\n",
       "      <td>7.0000</td>\n",
       "      <td>NaN</td>\n",
       "      <td>S</td>\n",
       "    </tr>\n",
       "    <tr>\n",
       "      <th>2</th>\n",
       "      <td>894</td>\n",
       "      <td>2</td>\n",
       "      <td>Myles, Mr. Thomas Francis</td>\n",
       "      <td>male</td>\n",
       "      <td>62.0</td>\n",
       "      <td>0</td>\n",
       "      <td>0</td>\n",
       "      <td>240276</td>\n",
       "      <td>9.6875</td>\n",
       "      <td>NaN</td>\n",
       "      <td>Q</td>\n",
       "    </tr>\n",
       "    <tr>\n",
       "      <th>3</th>\n",
       "      <td>895</td>\n",
       "      <td>3</td>\n",
       "      <td>Wirz, Mr. Albert</td>\n",
       "      <td>male</td>\n",
       "      <td>27.0</td>\n",
       "      <td>0</td>\n",
       "      <td>0</td>\n",
       "      <td>315154</td>\n",
       "      <td>8.6625</td>\n",
       "      <td>NaN</td>\n",
       "      <td>S</td>\n",
       "    </tr>\n",
       "    <tr>\n",
       "      <th>4</th>\n",
       "      <td>896</td>\n",
       "      <td>3</td>\n",
       "      <td>Hirvonen, Mrs. Alexander (Helga E Lindqvist)</td>\n",
       "      <td>female</td>\n",
       "      <td>22.0</td>\n",
       "      <td>1</td>\n",
       "      <td>1</td>\n",
       "      <td>3101298</td>\n",
       "      <td>12.2875</td>\n",
       "      <td>NaN</td>\n",
       "      <td>S</td>\n",
       "    </tr>\n",
       "  </tbody>\n",
       "</table>\n",
       "</div>"
      ],
      "text/plain": [
       "   PassengerId  Pclass                                          Name     Sex  \\\n",
       "0          892       3                              Kelly, Mr. James    male   \n",
       "1          893       3              Wilkes, Mrs. James (Ellen Needs)  female   \n",
       "2          894       2                     Myles, Mr. Thomas Francis    male   \n",
       "3          895       3                              Wirz, Mr. Albert    male   \n",
       "4          896       3  Hirvonen, Mrs. Alexander (Helga E Lindqvist)  female   \n",
       "\n",
       "    Age  SibSp  Parch   Ticket     Fare Cabin Embarked  \n",
       "0  34.5      0      0   330911   7.8292   NaN        Q  \n",
       "1  47.0      1      0   363272   7.0000   NaN        S  \n",
       "2  62.0      0      0   240276   9.6875   NaN        Q  \n",
       "3  27.0      0      0   315154   8.6625   NaN        S  \n",
       "4  22.0      1      1  3101298  12.2875   NaN        S  "
      ]
     },
     "execution_count": 4,
     "metadata": {},
     "output_type": "execute_result"
    }
   ],
   "source": [
    "nachos.head()"
   ]
  },
  {
   "cell_type": "code",
   "execution_count": 5,
   "id": "da389d74",
   "metadata": {
    "execution": {
     "iopub.execute_input": "2023-12-17T07:23:55.604933Z",
     "iopub.status.busy": "2023-12-17T07:23:55.604355Z",
     "iopub.status.idle": "2023-12-17T07:23:55.640208Z",
     "shell.execute_reply": "2023-12-17T07:23:55.638912Z"
    },
    "papermill": {
     "duration": 0.056445,
     "end_time": "2023-12-17T07:23:55.642925",
     "exception": false,
     "start_time": "2023-12-17T07:23:55.586480",
     "status": "completed"
    },
    "tags": []
   },
   "outputs": [
    {
     "name": "stdout",
     "output_type": "stream",
     "text": [
      "<class 'pandas.core.frame.DataFrame'>\n",
      "RangeIndex: 891 entries, 0 to 890\n",
      "Data columns (total 12 columns):\n",
      " #   Column       Non-Null Count  Dtype  \n",
      "---  ------       --------------  -----  \n",
      " 0   PassengerId  891 non-null    int64  \n",
      " 1   Survived     891 non-null    int64  \n",
      " 2   Pclass       891 non-null    int64  \n",
      " 3   Name         891 non-null    object \n",
      " 4   Sex          891 non-null    object \n",
      " 5   Age          714 non-null    float64\n",
      " 6   SibSp        891 non-null    int64  \n",
      " 7   Parch        891 non-null    int64  \n",
      " 8   Ticket       891 non-null    object \n",
      " 9   Fare         891 non-null    float64\n",
      " 10  Cabin        204 non-null    object \n",
      " 11  Embarked     889 non-null    object \n",
      "dtypes: float64(2), int64(5), object(5)\n",
      "memory usage: 83.7+ KB\n"
     ]
    }
   ],
   "source": [
    "tacos.info()"
   ]
  },
  {
   "cell_type": "code",
   "execution_count": 6,
   "id": "d5c7e493",
   "metadata": {
    "execution": {
     "iopub.execute_input": "2023-12-17T07:23:55.678785Z",
     "iopub.status.busy": "2023-12-17T07:23:55.678267Z",
     "iopub.status.idle": "2023-12-17T07:23:55.686873Z",
     "shell.execute_reply": "2023-12-17T07:23:55.685462Z"
    },
    "papermill": {
     "duration": 0.030235,
     "end_time": "2023-12-17T07:23:55.689425",
     "exception": false,
     "start_time": "2023-12-17T07:23:55.659190",
     "status": "completed"
    },
    "tags": []
   },
   "outputs": [
    {
     "data": {
      "text/plain": [
       "(891, 12)"
      ]
     },
     "execution_count": 6,
     "metadata": {},
     "output_type": "execute_result"
    }
   ],
   "source": [
    "tacos.shape"
   ]
  },
  {
   "cell_type": "code",
   "execution_count": 7,
   "id": "d4d46b5f",
   "metadata": {
    "execution": {
     "iopub.execute_input": "2023-12-17T07:23:55.726136Z",
     "iopub.status.busy": "2023-12-17T07:23:55.724815Z",
     "iopub.status.idle": "2023-12-17T07:23:55.733112Z",
     "shell.execute_reply": "2023-12-17T07:23:55.731902Z"
    },
    "papermill": {
     "duration": 0.029218,
     "end_time": "2023-12-17T07:23:55.735734",
     "exception": false,
     "start_time": "2023-12-17T07:23:55.706516",
     "status": "completed"
    },
    "tags": []
   },
   "outputs": [
    {
     "data": {
      "text/plain": [
       "(418, 11)"
      ]
     },
     "execution_count": 7,
     "metadata": {},
     "output_type": "execute_result"
    }
   ],
   "source": [
    "nachos.shape"
   ]
  },
  {
   "cell_type": "code",
   "execution_count": 8,
   "id": "1a902c9e",
   "metadata": {
    "execution": {
     "iopub.execute_input": "2023-12-17T07:23:55.840972Z",
     "iopub.status.busy": "2023-12-17T07:23:55.840427Z",
     "iopub.status.idle": "2023-12-17T07:23:55.853078Z",
     "shell.execute_reply": "2023-12-17T07:23:55.851397Z"
    },
    "papermill": {
     "duration": 0.103375,
     "end_time": "2023-12-17T07:23:55.855740",
     "exception": false,
     "start_time": "2023-12-17T07:23:55.752365",
     "status": "completed"
    },
    "tags": []
   },
   "outputs": [
    {
     "data": {
      "text/plain": [
       "PassengerId      0\n",
       "Survived         0\n",
       "Pclass           0\n",
       "Name             0\n",
       "Sex              0\n",
       "Age            177\n",
       "SibSp            0\n",
       "Parch            0\n",
       "Ticket           0\n",
       "Fare             0\n",
       "Cabin          687\n",
       "Embarked         2\n",
       "dtype: int64"
      ]
     },
     "execution_count": 8,
     "metadata": {},
     "output_type": "execute_result"
    }
   ],
   "source": [
    "tacos.isna().sum()"
   ]
  },
  {
   "cell_type": "code",
   "execution_count": 9,
   "id": "fdc9bc61",
   "metadata": {
    "execution": {
     "iopub.execute_input": "2023-12-17T07:23:55.891684Z",
     "iopub.status.busy": "2023-12-17T07:23:55.891148Z",
     "iopub.status.idle": "2023-12-17T07:23:55.902780Z",
     "shell.execute_reply": "2023-12-17T07:23:55.901361Z"
    },
    "papermill": {
     "duration": 0.032901,
     "end_time": "2023-12-17T07:23:55.905428",
     "exception": false,
     "start_time": "2023-12-17T07:23:55.872527",
     "status": "completed"
    },
    "tags": []
   },
   "outputs": [
    {
     "data": {
      "text/plain": [
       "PassengerId      0\n",
       "Pclass           0\n",
       "Name             0\n",
       "Sex              0\n",
       "Age             86\n",
       "SibSp            0\n",
       "Parch            0\n",
       "Ticket           0\n",
       "Fare             1\n",
       "Cabin          327\n",
       "Embarked         0\n",
       "dtype: int64"
      ]
     },
     "execution_count": 9,
     "metadata": {},
     "output_type": "execute_result"
    }
   ],
   "source": [
    "nachos.isna().sum()"
   ]
  },
  {
   "cell_type": "code",
   "execution_count": 10,
   "id": "89bf7096",
   "metadata": {
    "execution": {
     "iopub.execute_input": "2023-12-17T07:23:55.944304Z",
     "iopub.status.busy": "2023-12-17T07:23:55.943814Z",
     "iopub.status.idle": "2023-12-17T07:23:55.954788Z",
     "shell.execute_reply": "2023-12-17T07:23:55.953575Z"
    },
    "papermill": {
     "duration": 0.033917,
     "end_time": "2023-12-17T07:23:55.957501",
     "exception": false,
     "start_time": "2023-12-17T07:23:55.923584",
     "status": "completed"
    },
    "tags": []
   },
   "outputs": [
    {
     "data": {
      "text/plain": [
       "(28.0, 29.69911764705882)"
      ]
     },
     "execution_count": 10,
     "metadata": {},
     "output_type": "execute_result"
    }
   ],
   "source": [
    "tacos['Age'].median(), tacos['Age'].mean()"
   ]
  },
  {
   "cell_type": "code",
   "execution_count": 11,
   "id": "9e3bfeeb",
   "metadata": {
    "execution": {
     "iopub.execute_input": "2023-12-17T07:23:55.995633Z",
     "iopub.status.busy": "2023-12-17T07:23:55.995182Z",
     "iopub.status.idle": "2023-12-17T07:23:56.005990Z",
     "shell.execute_reply": "2023-12-17T07:23:56.004696Z"
    },
    "papermill": {
     "duration": 0.033091,
     "end_time": "2023-12-17T07:23:56.008634",
     "exception": false,
     "start_time": "2023-12-17T07:23:55.975543",
     "status": "completed"
    },
    "tags": []
   },
   "outputs": [
    {
     "data": {
      "text/plain": [
       "(27.0, 30.272590361445783)"
      ]
     },
     "execution_count": 11,
     "metadata": {},
     "output_type": "execute_result"
    }
   ],
   "source": [
    "nachos['Age'].median(), nachos['Age'].mean()"
   ]
  },
  {
   "cell_type": "code",
   "execution_count": 12,
   "id": "67240e7e",
   "metadata": {
    "execution": {
     "iopub.execute_input": "2023-12-17T07:23:56.048699Z",
     "iopub.status.busy": "2023-12-17T07:23:56.048291Z",
     "iopub.status.idle": "2023-12-17T07:23:56.054682Z",
     "shell.execute_reply": "2023-12-17T07:23:56.053878Z"
    },
    "papermill": {
     "duration": 0.030056,
     "end_time": "2023-12-17T07:23:56.057480",
     "exception": false,
     "start_time": "2023-12-17T07:23:56.027424",
     "status": "completed"
    },
    "tags": []
   },
   "outputs": [
    {
     "data": {
      "text/plain": [
       "0.3838383838383838"
      ]
     },
     "execution_count": 12,
     "metadata": {},
     "output_type": "execute_result"
    }
   ],
   "source": [
    "tacos['Survived'].mean()"
   ]
  },
  {
   "cell_type": "code",
   "execution_count": 13,
   "id": "86c49ce4",
   "metadata": {
    "execution": {
     "iopub.execute_input": "2023-12-17T07:23:56.098054Z",
     "iopub.status.busy": "2023-12-17T07:23:56.097371Z",
     "iopub.status.idle": "2023-12-17T07:23:56.110885Z",
     "shell.execute_reply": "2023-12-17T07:23:56.109467Z"
    },
    "papermill": {
     "duration": 0.038104,
     "end_time": "2023-12-17T07:23:56.113977",
     "exception": false,
     "start_time": "2023-12-17T07:23:56.075873",
     "status": "completed"
    },
    "tags": []
   },
   "outputs": [
    {
     "data": {
      "text/plain": [
       "(27.0, 27.915708812260537)"
      ]
     },
     "execution_count": 13,
     "metadata": {},
     "output_type": "execute_result"
    }
   ],
   "source": [
    "tacos[tacos['Sex']=='female']['Age'].median(), tacos[tacos['Sex']=='female']['Age'].mean()"
   ]
  },
  {
   "cell_type": "code",
   "execution_count": 14,
   "id": "dea132a6",
   "metadata": {
    "execution": {
     "iopub.execute_input": "2023-12-17T07:23:56.154779Z",
     "iopub.status.busy": "2023-12-17T07:23:56.154311Z",
     "iopub.status.idle": "2023-12-17T07:23:56.164682Z",
     "shell.execute_reply": "2023-12-17T07:23:56.163707Z"
    },
    "papermill": {
     "duration": 0.033198,
     "end_time": "2023-12-17T07:23:56.167022",
     "exception": false,
     "start_time": "2023-12-17T07:23:56.133824",
     "status": "completed"
    },
    "tags": []
   },
   "outputs": [
    {
     "data": {
      "text/plain": [
       "29.0"
      ]
     },
     "execution_count": 14,
     "metadata": {},
     "output_type": "execute_result"
    }
   ],
   "source": [
    "tacos[tacos['Sex']=='male']['Age'].median()"
   ]
  },
  {
   "cell_type": "code",
   "execution_count": 15,
   "id": "ccd5c299",
   "metadata": {
    "execution": {
     "iopub.execute_input": "2023-12-17T07:23:56.209152Z",
     "iopub.status.busy": "2023-12-17T07:23:56.208484Z",
     "iopub.status.idle": "2023-12-17T07:23:56.217525Z",
     "shell.execute_reply": "2023-12-17T07:23:56.216312Z"
    },
    "papermill": {
     "duration": 0.032378,
     "end_time": "2023-12-17T07:23:56.220467",
     "exception": false,
     "start_time": "2023-12-17T07:23:56.188089",
     "status": "completed"
    },
    "tags": []
   },
   "outputs": [
    {
     "data": {
      "text/plain": [
       "109"
      ]
     },
     "execution_count": 15,
     "metadata": {},
     "output_type": "execute_result"
    }
   ],
   "source": [
    "tacos[tacos['Sex']=='male']['Survived'].sum()"
   ]
  },
  {
   "cell_type": "code",
   "execution_count": 16,
   "id": "910f6b60",
   "metadata": {
    "execution": {
     "iopub.execute_input": "2023-12-17T07:23:56.259182Z",
     "iopub.status.busy": "2023-12-17T07:23:56.258442Z",
     "iopub.status.idle": "2023-12-17T07:23:56.267046Z",
     "shell.execute_reply": "2023-12-17T07:23:56.265819Z"
    },
    "papermill": {
     "duration": 0.030693,
     "end_time": "2023-12-17T07:23:56.269255",
     "exception": false,
     "start_time": "2023-12-17T07:23:56.238562",
     "status": "completed"
    },
    "tags": []
   },
   "outputs": [
    {
     "data": {
      "text/plain": [
       "233"
      ]
     },
     "execution_count": 16,
     "metadata": {},
     "output_type": "execute_result"
    }
   ],
   "source": [
    "tacos[tacos['Sex']=='female']['Survived'].sum()"
   ]
  },
  {
   "cell_type": "markdown",
   "id": "ce19c6a8",
   "metadata": {
    "papermill": {
     "duration": 0.017731,
     "end_time": "2023-12-17T07:23:56.304840",
     "exception": false,
     "start_time": "2023-12-17T07:23:56.287109",
     "status": "completed"
    },
    "tags": []
   },
   "source": [
    "### <FONT COLOR=\"purple\"> Adding visualizations for a better grasp of the tacos ('Train') dataset </FONT>"
   ]
  },
  {
   "cell_type": "code",
   "execution_count": 17,
   "id": "b05ad698",
   "metadata": {
    "execution": {
     "iopub.execute_input": "2023-12-17T07:23:56.343191Z",
     "iopub.status.busy": "2023-12-17T07:23:56.342470Z",
     "iopub.status.idle": "2023-12-17T07:23:57.904708Z",
     "shell.execute_reply": "2023-12-17T07:23:57.903031Z"
    },
    "papermill": {
     "duration": 1.585296,
     "end_time": "2023-12-17T07:23:57.908087",
     "exception": false,
     "start_time": "2023-12-17T07:23:56.322791",
     "status": "completed"
    },
    "tags": []
   },
   "outputs": [
    {
     "name": "stdout",
     "output_type": "stream",
     "text": [
      "Sex\n"
     ]
    },
    {
     "data": {
      "image/png": "[encoded data removed]",
      "text/plain": [
       "<Figure size 640x480 with 1 Axes>"
      ]
     },
     "metadata": {},
     "output_type": "display_data"
    },
    {
     "name": "stdout",
     "output_type": "stream",
     "text": [
      "\n",
      "Embarked\n"
     ]
    },
    {
     "data": {
      "image/png": "[encoded data removed]",
      "text/plain": [
       "<Figure size 640x480 with 1 Axes>"
      ]
     },
     "metadata": {},
     "output_type": "display_data"
    },
    {
     "name": "stdout",
     "output_type": "stream",
     "text": [
      "\n",
      "Pclass\n"
     ]
    },
    {
     "data": {
      "image/png": "[encoded data removed]",
      "text/plain": [
       "<Figure size 640x480 with 1 Axes>"
      ]
     },
     "metadata": {},
     "output_type": "display_data"
    },
    {
     "name": "stdout",
     "output_type": "stream",
     "text": [
      "\n",
      "SibSp\n"
     ]
    },
    {
     "data": {
      "image/png": "[encoded data removed]",
      "text/plain": [
       "<Figure size 640x480 with 1 Axes>"
      ]
     },
     "metadata": {},
     "output_type": "display_data"
    },
    {
     "name": "stdout",
     "output_type": "stream",
     "text": [
      "\n",
      "Parch\n"
     ]
    },
    {
     "data": {
      "image/png": "[encoded data removed]",
      "text/plain": [
       "<Figure size 640x480 with 1 Axes>"
      ]
     },
     "metadata": {},
     "output_type": "display_data"
    },
    {
     "name": "stdout",
     "output_type": "stream",
     "text": [
      "\n"
     ]
    }
   ],
   "source": [
    "for column_name in ['Sex','Embarked','Pclass', 'SibSp', 'Parch']:\n",
    "    print(column_name)\n",
    "    sns.countplot(data=tacos, x=column_name, hue='Survived', palette='twilight')\n",
    "    plt.show()\n",
    "    print(\"\")"
   ]
  },
  {
   "cell_type": "markdown",
   "id": "10e4b000",
   "metadata": {
    "papermill": {
     "duration": 0.020066,
     "end_time": "2023-12-17T07:23:57.949194",
     "exception": false,
     "start_time": "2023-12-17T07:23:57.929128",
     "status": "completed"
    },
    "tags": []
   },
   "source": [
    "### <FONT COLOR = \"light purple\"> \n",
    "~ We can see that more women survived than the men. 124 more woman suvived which makes sense as they had the women and children board the life boats first.\n",
    "    \n",
    "~The visualizations shows the demographic of the people who survived in this dataset</FONT>"
   ]
  },
  {
   "cell_type": "markdown",
   "id": "f78e9609",
   "metadata": {
    "papermill": {
     "duration": 0.020044,
     "end_time": "2023-12-17T07:23:57.990091",
     "exception": false,
     "start_time": "2023-12-17T07:23:57.970047",
     "status": "completed"
    },
    "tags": []
   },
   "source": [
    "#### <FONT COLOR = 'rainbow'> Fare seems to have a factor in surviviblity </FONT>"
   ]
  },
  {
   "cell_type": "code",
   "execution_count": 18,
   "id": "262450a0",
   "metadata": {
    "execution": {
     "iopub.execute_input": "2023-12-17T07:23:58.033589Z",
     "iopub.status.busy": "2023-12-17T07:23:58.033092Z",
     "iopub.status.idle": "2023-12-17T07:23:58.043915Z",
     "shell.execute_reply": "2023-12-17T07:23:58.042745Z"
    },
    "papermill": {
     "duration": 0.035455,
     "end_time": "2023-12-17T07:23:58.046678",
     "exception": false,
     "start_time": "2023-12-17T07:23:58.011223",
     "status": "completed"
    },
    "tags": []
   },
   "outputs": [],
   "source": [
    "fare = [0, 50, 100, 200, 300, 400, 500, 550]\n",
    "fare_labels = ['$0-49','$50-99','$100-199','$200-299','$300-399','$400-499','$500-550']\n",
    "\n",
    "tacos [\"Passenger Fare\"] = pd.cut(tacos['Fare'], bins=fare, labels=fare_labels, right=False, include_lowest=True)\n",
    "plt.show()"
   ]
  },
  {
   "cell_type": "code",
   "execution_count": 19,
   "id": "c11ee2ec",
   "metadata": {
    "execution": {
     "iopub.execute_input": "2023-12-17T07:23:58.094316Z",
     "iopub.status.busy": "2023-12-17T07:23:58.093872Z",
     "iopub.status.idle": "2023-12-17T07:23:58.363016Z",
     "shell.execute_reply": "2023-12-17T07:23:58.361644Z"
    },
    "papermill": {
     "duration": 0.297458,
     "end_time": "2023-12-17T07:23:58.366053",
     "exception": false,
     "start_time": "2023-12-17T07:23:58.068595",
     "status": "completed"
    },
    "tags": []
   },
   "outputs": [
    {
     "data": {
      "image/png": "[encoded data removed]",
      "text/plain": [
       "<Figure size 640x480 with 1 Axes>"
      ]
     },
     "metadata": {},
     "output_type": "display_data"
    }
   ],
   "source": [
    "survived_to_fare = tacos.groupby('Passenger Fare')['Survived'].mean()\n",
    "survived_to_fare_by_range = survived_to_fare.reset_index()\n",
    "\n",
    "sns.barplot(data=survived_to_fare_by_range, x='Passenger Fare', y='Survived', palette='twilight')\n",
    "plt.show()"
   ]
  },
  {
   "cell_type": "markdown",
   "id": "75e62b34",
   "metadata": {
    "papermill": {
     "duration": 0.020515,
     "end_time": "2023-12-17T07:23:58.408097",
     "exception": false,
     "start_time": "2023-12-17T07:23:58.387582",
     "status": "completed"
    },
    "tags": []
   },
   "source": [
    "#### <FONT COLOR=\"teal\"> **Adding in the fare based on survival for tacos dataset** </FONT>"
   ]
  },
  {
   "cell_type": "markdown",
   "id": "2d78e9c1",
   "metadata": {
    "papermill": {
     "duration": 0.020561,
     "end_time": "2023-12-17T07:23:58.449444",
     "exception": false,
     "start_time": "2023-12-17T07:23:58.428883",
     "status": "completed"
    },
    "tags": []
   },
   "source": [
    "# <FONT COLOR=\"magenta\"> Data Cleaning and Manipulation</FONT>"
   ]
  },
  {
   "cell_type": "markdown",
   "id": "f572238d",
   "metadata": {
    "papermill": {
     "duration": 0.020091,
     "end_time": "2023-12-17T07:23:58.490132",
     "exception": false,
     "start_time": "2023-12-17T07:23:58.470041",
     "status": "completed"
    },
    "tags": []
   },
   "source": [
    "Replacing Female with \"1\" and Male for \"0\", to make it easier to read."
   ]
  },
  {
   "cell_type": "code",
   "execution_count": 20,
   "id": "7d956a07",
   "metadata": {
    "execution": {
     "iopub.execute_input": "2023-12-17T07:23:58.533920Z",
     "iopub.status.busy": "2023-12-17T07:23:58.533305Z",
     "iopub.status.idle": "2023-12-17T07:23:58.556096Z",
     "shell.execute_reply": "2023-12-17T07:23:58.554727Z"
    },
    "papermill": {
     "duration": 0.048475,
     "end_time": "2023-12-17T07:23:58.559238",
     "exception": false,
     "start_time": "2023-12-17T07:23:58.510763",
     "status": "completed"
    },
    "tags": []
   },
   "outputs": [
    {
     "data": {
      "text/html": [
       "<div>\n",
       "<style scoped>\n",
       "    .dataframe tbody tr th:only-of-type {\n",
       "        vertical-align: middle;\n",
       "    }\n",
       "\n",
       "    .dataframe tbody tr th {\n",
       "        vertical-align: top;\n",
       "    }\n",
       "\n",
       "    .dataframe thead th {\n",
       "        text-align: right;\n",
       "    }\n",
       "</style>\n",
       "<table border=\"1\" class=\"dataframe\">\n",
       "  <thead>\n",
       "    <tr style=\"text-align: right;\">\n",
       "      <th></th>\n",
       "      <th>PassengerId</th>\n",
       "      <th>Survived</th>\n",
       "      <th>Pclass</th>\n",
       "      <th>Name</th>\n",
       "      <th>Sex</th>\n",
       "      <th>Age</th>\n",
       "      <th>SibSp</th>\n",
       "      <th>Parch</th>\n",
       "      <th>Ticket</th>\n",
       "      <th>Fare</th>\n",
       "      <th>Cabin</th>\n",
       "      <th>Embarked</th>\n",
       "      <th>Passenger Fare</th>\n",
       "    </tr>\n",
       "  </thead>\n",
       "  <tbody>\n",
       "    <tr>\n",
       "      <th>0</th>\n",
       "      <td>1</td>\n",
       "      <td>0</td>\n",
       "      <td>3</td>\n",
       "      <td>Braund, Mr. Owen Harris</td>\n",
       "      <td>male</td>\n",
       "      <td>22.0</td>\n",
       "      <td>1</td>\n",
       "      <td>0</td>\n",
       "      <td>A/5 21171</td>\n",
       "      <td>7.2500</td>\n",
       "      <td>NaN</td>\n",
       "      <td>S</td>\n",
       "      <td>$0-49</td>\n",
       "    </tr>\n",
       "    <tr>\n",
       "      <th>1</th>\n",
       "      <td>2</td>\n",
       "      <td>1</td>\n",
       "      <td>1</td>\n",
       "      <td>Cumings, Mrs. John Bradley (Florence Briggs Th...</td>\n",
       "      <td>female</td>\n",
       "      <td>38.0</td>\n",
       "      <td>1</td>\n",
       "      <td>0</td>\n",
       "      <td>PC 17599</td>\n",
       "      <td>71.2833</td>\n",
       "      <td>C85</td>\n",
       "      <td>C</td>\n",
       "      <td>$50-99</td>\n",
       "    </tr>\n",
       "    <tr>\n",
       "      <th>2</th>\n",
       "      <td>3</td>\n",
       "      <td>1</td>\n",
       "      <td>3</td>\n",
       "      <td>Heikkinen, Miss. Laina</td>\n",
       "      <td>female</td>\n",
       "      <td>26.0</td>\n",
       "      <td>0</td>\n",
       "      <td>0</td>\n",
       "      <td>STON/O2. 3101282</td>\n",
       "      <td>7.9250</td>\n",
       "      <td>NaN</td>\n",
       "      <td>S</td>\n",
       "      <td>$0-49</td>\n",
       "    </tr>\n",
       "    <tr>\n",
       "      <th>3</th>\n",
       "      <td>4</td>\n",
       "      <td>1</td>\n",
       "      <td>1</td>\n",
       "      <td>Futrelle, Mrs. Jacques Heath (Lily May Peel)</td>\n",
       "      <td>female</td>\n",
       "      <td>35.0</td>\n",
       "      <td>1</td>\n",
       "      <td>0</td>\n",
       "      <td>113803</td>\n",
       "      <td>53.1000</td>\n",
       "      <td>C123</td>\n",
       "      <td>S</td>\n",
       "      <td>$50-99</td>\n",
       "    </tr>\n",
       "    <tr>\n",
       "      <th>4</th>\n",
       "      <td>5</td>\n",
       "      <td>0</td>\n",
       "      <td>3</td>\n",
       "      <td>Allen, Mr. William Henry</td>\n",
       "      <td>male</td>\n",
       "      <td>35.0</td>\n",
       "      <td>0</td>\n",
       "      <td>0</td>\n",
       "      <td>373450</td>\n",
       "      <td>8.0500</td>\n",
       "      <td>NaN</td>\n",
       "      <td>S</td>\n",
       "      <td>$0-49</td>\n",
       "    </tr>\n",
       "  </tbody>\n",
       "</table>\n",
       "</div>"
      ],
      "text/plain": [
       "   PassengerId  Survived  Pclass  \\\n",
       "0            1         0       3   \n",
       "1            2         1       1   \n",
       "2            3         1       3   \n",
       "3            4         1       1   \n",
       "4            5         0       3   \n",
       "\n",
       "                                                Name     Sex   Age  SibSp  \\\n",
       "0                            Braund, Mr. Owen Harris    male  22.0      1   \n",
       "1  Cumings, Mrs. John Bradley (Florence Briggs Th...  female  38.0      1   \n",
       "2                             Heikkinen, Miss. Laina  female  26.0      0   \n",
       "3       Futrelle, Mrs. Jacques Heath (Lily May Peel)  female  35.0      1   \n",
       "4                           Allen, Mr. William Henry    male  35.0      0   \n",
       "\n",
       "   Parch            Ticket     Fare Cabin Embarked Passenger Fare  \n",
       "0      0         A/5 21171   7.2500   NaN        S          $0-49  \n",
       "1      0          PC 17599  71.2833   C85        C         $50-99  \n",
       "2      0  STON/O2. 3101282   7.9250   NaN        S          $0-49  \n",
       "3      0            113803  53.1000  C123        S         $50-99  \n",
       "4      0            373450   8.0500   NaN        S          $0-49  "
      ]
     },
     "execution_count": 20,
     "metadata": {},
     "output_type": "execute_result"
    }
   ],
   "source": [
    "tacos['Survived'].replace(['Female','Male'], [1,0], inplace=True)\n",
    "tacos.head()"
   ]
  },
  {
   "cell_type": "code",
   "execution_count": 21,
   "id": "e62a7111",
   "metadata": {
    "execution": {
     "iopub.execute_input": "2023-12-17T07:23:58.605448Z",
     "iopub.status.busy": "2023-12-17T07:23:58.605047Z",
     "iopub.status.idle": "2023-12-17T07:23:58.613472Z",
     "shell.execute_reply": "2023-12-17T07:23:58.612161Z"
    },
    "papermill": {
     "duration": 0.035416,
     "end_time": "2023-12-17T07:23:58.616616",
     "exception": false,
     "start_time": "2023-12-17T07:23:58.581200",
     "status": "completed"
    },
    "tags": []
   },
   "outputs": [
    {
     "data": {
      "text/plain": [
       "Index(['PassengerId', 'Survived', 'Pclass', 'Name', 'Sex', 'Age', 'SibSp',\n",
       "       'Parch', 'Ticket', 'Fare', 'Cabin', 'Embarked', 'Passenger Fare'],\n",
       "      dtype='object')"
      ]
     },
     "execution_count": 21,
     "metadata": {},
     "output_type": "execute_result"
    }
   ],
   "source": [
    "tacos.columns"
   ]
  },
  {
   "cell_type": "code",
   "execution_count": 22,
   "id": "7c4a5c4b",
   "metadata": {
    "execution": {
     "iopub.execute_input": "2023-12-17T07:23:58.669077Z",
     "iopub.status.busy": "2023-12-17T07:23:58.667736Z",
     "iopub.status.idle": "2023-12-17T07:23:58.684323Z",
     "shell.execute_reply": "2023-12-17T07:23:58.683532Z"
    },
    "papermill": {
     "duration": 0.044298,
     "end_time": "2023-12-17T07:23:58.686613",
     "exception": false,
     "start_time": "2023-12-17T07:23:58.642315",
     "status": "completed"
    },
    "tags": []
   },
   "outputs": [
    {
     "data": {
      "text/html": [
       "<div>\n",
       "<style scoped>\n",
       "    .dataframe tbody tr th:only-of-type {\n",
       "        vertical-align: middle;\n",
       "    }\n",
       "\n",
       "    .dataframe tbody tr th {\n",
       "        vertical-align: top;\n",
       "    }\n",
       "\n",
       "    .dataframe thead th {\n",
       "        text-align: right;\n",
       "    }\n",
       "</style>\n",
       "<table border=\"1\" class=\"dataframe\">\n",
       "  <thead>\n",
       "    <tr style=\"text-align: right;\">\n",
       "      <th></th>\n",
       "      <th>Survived</th>\n",
       "      <th>Pclass</th>\n",
       "      <th>Sex</th>\n",
       "      <th>Age</th>\n",
       "      <th>Fare</th>\n",
       "      <th>Embarked</th>\n",
       "    </tr>\n",
       "  </thead>\n",
       "  <tbody>\n",
       "    <tr>\n",
       "      <th>0</th>\n",
       "      <td>0</td>\n",
       "      <td>3</td>\n",
       "      <td>male</td>\n",
       "      <td>22.0</td>\n",
       "      <td>7.2500</td>\n",
       "      <td>S</td>\n",
       "    </tr>\n",
       "    <tr>\n",
       "      <th>1</th>\n",
       "      <td>1</td>\n",
       "      <td>1</td>\n",
       "      <td>female</td>\n",
       "      <td>38.0</td>\n",
       "      <td>71.2833</td>\n",
       "      <td>C</td>\n",
       "    </tr>\n",
       "    <tr>\n",
       "      <th>2</th>\n",
       "      <td>1</td>\n",
       "      <td>3</td>\n",
       "      <td>female</td>\n",
       "      <td>26.0</td>\n",
       "      <td>7.9250</td>\n",
       "      <td>S</td>\n",
       "    </tr>\n",
       "    <tr>\n",
       "      <th>3</th>\n",
       "      <td>1</td>\n",
       "      <td>1</td>\n",
       "      <td>female</td>\n",
       "      <td>35.0</td>\n",
       "      <td>53.1000</td>\n",
       "      <td>S</td>\n",
       "    </tr>\n",
       "    <tr>\n",
       "      <th>4</th>\n",
       "      <td>0</td>\n",
       "      <td>3</td>\n",
       "      <td>male</td>\n",
       "      <td>35.0</td>\n",
       "      <td>8.0500</td>\n",
       "      <td>S</td>\n",
       "    </tr>\n",
       "  </tbody>\n",
       "</table>\n",
       "</div>"
      ],
      "text/plain": [
       "   Survived  Pclass     Sex   Age     Fare Embarked\n",
       "0         0       3    male  22.0   7.2500        S\n",
       "1         1       1  female  38.0  71.2833        C\n",
       "2         1       3  female  26.0   7.9250        S\n",
       "3         1       1  female  35.0  53.1000        S\n",
       "4         0       3    male  35.0   8.0500        S"
      ]
     },
     "execution_count": 22,
     "metadata": {},
     "output_type": "execute_result"
    }
   ],
   "source": [
    "tacos.drop(['PassengerId', 'Name', 'SibSp', 'Parch', 'Ticket', 'Cabin', 'Passenger Fare'], axis=1, inplace=True)\n",
    "tacos.head()"
   ]
  },
  {
   "cell_type": "code",
   "execution_count": 23,
   "id": "a470a8bd",
   "metadata": {
    "execution": {
     "iopub.execute_input": "2023-12-17T07:23:58.735760Z",
     "iopub.status.busy": "2023-12-17T07:23:58.734484Z",
     "iopub.status.idle": "2023-12-17T07:23:58.743916Z",
     "shell.execute_reply": "2023-12-17T07:23:58.742891Z"
    },
    "papermill": {
     "duration": 0.03584,
     "end_time": "2023-12-17T07:23:58.746482",
     "exception": false,
     "start_time": "2023-12-17T07:23:58.710642",
     "status": "completed"
    },
    "tags": []
   },
   "outputs": [
    {
     "data": {
      "text/plain": [
       "PassengerId      0\n",
       "Pclass           0\n",
       "Name             0\n",
       "Sex              0\n",
       "Age             86\n",
       "SibSp            0\n",
       "Parch            0\n",
       "Ticket           0\n",
       "Fare             1\n",
       "Cabin          327\n",
       "Embarked         0\n",
       "dtype: int64"
      ]
     },
     "execution_count": 23,
     "metadata": {},
     "output_type": "execute_result"
    }
   ],
   "source": [
    "nachos1 = pd.DataFrame(nachos)\n",
    "nachos1.isnull().sum()"
   ]
  },
  {
   "cell_type": "code",
   "execution_count": 24,
   "id": "ef387400",
   "metadata": {
    "execution": {
     "iopub.execute_input": "2023-12-17T07:23:58.794766Z",
     "iopub.status.busy": "2023-12-17T07:23:58.794345Z",
     "iopub.status.idle": "2023-12-17T07:23:58.809625Z",
     "shell.execute_reply": "2023-12-17T07:23:58.808141Z"
    },
    "papermill": {
     "duration": 0.042402,
     "end_time": "2023-12-17T07:23:58.812656",
     "exception": false,
     "start_time": "2023-12-17T07:23:58.770254",
     "status": "completed"
    },
    "tags": []
   },
   "outputs": [
    {
     "data": {
      "text/plain": [
       "0"
      ]
     },
     "execution_count": 24,
     "metadata": {},
     "output_type": "execute_result"
    }
   ],
   "source": [
    "nachos1['Age'].fillna(nachos1['Age'].median(), inplace=True)\n",
    "nachos1['Embarked'].fillna(nachos1['Embarked'].mode(), inplace=True)\n",
    "nachos1['Fare'].fillna(nachos1['Fare'].mean(), inplace=True)\n",
    "\n",
    "nachos.duplicated().sum()"
   ]
  },
  {
   "cell_type": "code",
   "execution_count": 25,
   "id": "a847ed46",
   "metadata": {
    "execution": {
     "iopub.execute_input": "2023-12-17T07:23:58.861947Z",
     "iopub.status.busy": "2023-12-17T07:23:58.860638Z",
     "iopub.status.idle": "2023-12-17T07:23:58.870877Z",
     "shell.execute_reply": "2023-12-17T07:23:58.869597Z"
    },
    "papermill": {
     "duration": 0.037528,
     "end_time": "2023-12-17T07:23:58.873435",
     "exception": false,
     "start_time": "2023-12-17T07:23:58.835907",
     "status": "completed"
    },
    "tags": []
   },
   "outputs": [
    {
     "data": {
      "text/plain": [
       "PassengerId      0\n",
       "Pclass           0\n",
       "Name             0\n",
       "Sex              0\n",
       "Age              0\n",
       "SibSp            0\n",
       "Parch            0\n",
       "Ticket           0\n",
       "Fare             0\n",
       "Cabin          327\n",
       "Embarked         0\n",
       "dtype: int64"
      ]
     },
     "execution_count": 25,
     "metadata": {},
     "output_type": "execute_result"
    }
   ],
   "source": [
    "nachos1.isnull().sum()"
   ]
  },
  {
   "cell_type": "code",
   "execution_count": 26,
   "id": "f2ae4b9c",
   "metadata": {
    "execution": {
     "iopub.execute_input": "2023-12-17T07:23:58.920167Z",
     "iopub.status.busy": "2023-12-17T07:23:58.919727Z",
     "iopub.status.idle": "2023-12-17T07:23:58.935118Z",
     "shell.execute_reply": "2023-12-17T07:23:58.933862Z"
    },
    "papermill": {
     "duration": 0.04166,
     "end_time": "2023-12-17T07:23:58.937713",
     "exception": false,
     "start_time": "2023-12-17T07:23:58.896053",
     "status": "completed"
    },
    "tags": []
   },
   "outputs": [
    {
     "data": {
      "text/html": [
       "<div>\n",
       "<style scoped>\n",
       "    .dataframe tbody tr th:only-of-type {\n",
       "        vertical-align: middle;\n",
       "    }\n",
       "\n",
       "    .dataframe tbody tr th {\n",
       "        vertical-align: top;\n",
       "    }\n",
       "\n",
       "    .dataframe thead th {\n",
       "        text-align: right;\n",
       "    }\n",
       "</style>\n",
       "<table border=\"1\" class=\"dataframe\">\n",
       "  <thead>\n",
       "    <tr style=\"text-align: right;\">\n",
       "      <th></th>\n",
       "      <th>Pclass</th>\n",
       "      <th>Sex</th>\n",
       "      <th>Age</th>\n",
       "      <th>Fare</th>\n",
       "      <th>Embarked</th>\n",
       "    </tr>\n",
       "  </thead>\n",
       "  <tbody>\n",
       "    <tr>\n",
       "      <th>0</th>\n",
       "      <td>3</td>\n",
       "      <td>male</td>\n",
       "      <td>34.5</td>\n",
       "      <td>7.8292</td>\n",
       "      <td>Q</td>\n",
       "    </tr>\n",
       "    <tr>\n",
       "      <th>1</th>\n",
       "      <td>3</td>\n",
       "      <td>female</td>\n",
       "      <td>47.0</td>\n",
       "      <td>7.0000</td>\n",
       "      <td>S</td>\n",
       "    </tr>\n",
       "    <tr>\n",
       "      <th>2</th>\n",
       "      <td>2</td>\n",
       "      <td>male</td>\n",
       "      <td>62.0</td>\n",
       "      <td>9.6875</td>\n",
       "      <td>Q</td>\n",
       "    </tr>\n",
       "    <tr>\n",
       "      <th>3</th>\n",
       "      <td>3</td>\n",
       "      <td>male</td>\n",
       "      <td>27.0</td>\n",
       "      <td>8.6625</td>\n",
       "      <td>S</td>\n",
       "    </tr>\n",
       "    <tr>\n",
       "      <th>4</th>\n",
       "      <td>3</td>\n",
       "      <td>female</td>\n",
       "      <td>22.0</td>\n",
       "      <td>12.2875</td>\n",
       "      <td>S</td>\n",
       "    </tr>\n",
       "  </tbody>\n",
       "</table>\n",
       "</div>"
      ],
      "text/plain": [
       "   Pclass     Sex   Age     Fare Embarked\n",
       "0       3    male  34.5   7.8292        Q\n",
       "1       3  female  47.0   7.0000        S\n",
       "2       2    male  62.0   9.6875        Q\n",
       "3       3    male  27.0   8.6625        S\n",
       "4       3  female  22.0  12.2875        S"
      ]
     },
     "execution_count": 26,
     "metadata": {},
     "output_type": "execute_result"
    }
   ],
   "source": [
    "nachos1.drop(['PassengerId', 'Name', 'SibSp', 'Parch', 'Ticket', 'Cabin'], axis=1, inplace=True)\n",
    "nachos1.head()"
   ]
  },
  {
   "cell_type": "code",
   "execution_count": 27,
   "id": "bae27e46",
   "metadata": {
    "execution": {
     "iopub.execute_input": "2023-12-17T07:23:58.985066Z",
     "iopub.status.busy": "2023-12-17T07:23:58.984653Z",
     "iopub.status.idle": "2023-12-17T07:23:59.005128Z",
     "shell.execute_reply": "2023-12-17T07:23:59.004162Z"
    },
    "papermill": {
     "duration": 0.047434,
     "end_time": "2023-12-17T07:23:59.007656",
     "exception": false,
     "start_time": "2023-12-17T07:23:58.960222",
     "status": "completed"
    },
    "tags": []
   },
   "outputs": [
    {
     "data": {
      "text/html": [
       "<div>\n",
       "<style scoped>\n",
       "    .dataframe tbody tr th:only-of-type {\n",
       "        vertical-align: middle;\n",
       "    }\n",
       "\n",
       "    .dataframe tbody tr th {\n",
       "        vertical-align: top;\n",
       "    }\n",
       "\n",
       "    .dataframe thead th {\n",
       "        text-align: right;\n",
       "    }\n",
       "</style>\n",
       "<table border=\"1\" class=\"dataframe\">\n",
       "  <thead>\n",
       "    <tr style=\"text-align: right;\">\n",
       "      <th></th>\n",
       "      <th>Survived</th>\n",
       "      <th>Pclass</th>\n",
       "      <th>Sex</th>\n",
       "      <th>Age</th>\n",
       "      <th>Fare</th>\n",
       "      <th>Embarked</th>\n",
       "    </tr>\n",
       "  </thead>\n",
       "  <tbody>\n",
       "    <tr>\n",
       "      <th>0</th>\n",
       "      <td>0</td>\n",
       "      <td>3</td>\n",
       "      <td>0</td>\n",
       "      <td>22.0</td>\n",
       "      <td>7.2500</td>\n",
       "      <td>1.0</td>\n",
       "    </tr>\n",
       "    <tr>\n",
       "      <th>1</th>\n",
       "      <td>1</td>\n",
       "      <td>1</td>\n",
       "      <td>1</td>\n",
       "      <td>38.0</td>\n",
       "      <td>71.2833</td>\n",
       "      <td>2.0</td>\n",
       "    </tr>\n",
       "    <tr>\n",
       "      <th>2</th>\n",
       "      <td>1</td>\n",
       "      <td>3</td>\n",
       "      <td>1</td>\n",
       "      <td>26.0</td>\n",
       "      <td>7.9250</td>\n",
       "      <td>1.0</td>\n",
       "    </tr>\n",
       "    <tr>\n",
       "      <th>3</th>\n",
       "      <td>1</td>\n",
       "      <td>1</td>\n",
       "      <td>1</td>\n",
       "      <td>35.0</td>\n",
       "      <td>53.1000</td>\n",
       "      <td>1.0</td>\n",
       "    </tr>\n",
       "    <tr>\n",
       "      <th>4</th>\n",
       "      <td>0</td>\n",
       "      <td>3</td>\n",
       "      <td>0</td>\n",
       "      <td>35.0</td>\n",
       "      <td>8.0500</td>\n",
       "      <td>1.0</td>\n",
       "    </tr>\n",
       "  </tbody>\n",
       "</table>\n",
       "</div>"
      ],
      "text/plain": [
       "   Survived  Pclass  Sex   Age     Fare  Embarked\n",
       "0         0       3    0  22.0   7.2500       1.0\n",
       "1         1       1    1  38.0  71.2833       2.0\n",
       "2         1       3    1  26.0   7.9250       1.0\n",
       "3         1       1    1  35.0  53.1000       1.0\n",
       "4         0       3    0  35.0   8.0500       1.0"
      ]
     },
     "execution_count": 27,
     "metadata": {},
     "output_type": "execute_result"
    }
   ],
   "source": [
    "tacos.replace({'female':1, 'male':0}, inplace=True)\n",
    "tacos.replace({'S':1, 'C':2, 'Q':3}, inplace=True)\n",
    "tacos.head()"
   ]
  },
  {
   "cell_type": "markdown",
   "id": "a0646b70",
   "metadata": {
    "papermill": {
     "duration": 0.023717,
     "end_time": "2023-12-17T07:23:59.055181",
     "exception": false,
     "start_time": "2023-12-17T07:23:59.031464",
     "status": "completed"
    },
    "tags": []
   },
   "source": [
    "# <FONT COLOR='rainbow'> Checking for correlations </FONT>\n",
    "\n",
    "#### and comparisons of survivabliity with the mean of each variable (Pclass, Sex, Age, Fare and embarked)"
   ]
  },
  {
   "cell_type": "code",
   "execution_count": 28,
   "id": "edfca76f",
   "metadata": {
    "execution": {
     "iopub.execute_input": "2023-12-17T07:23:59.106598Z",
     "iopub.status.busy": "2023-12-17T07:23:59.106177Z",
     "iopub.status.idle": "2023-12-17T07:23:59.126393Z",
     "shell.execute_reply": "2023-12-17T07:23:59.124822Z"
    },
    "papermill": {
     "duration": 0.048573,
     "end_time": "2023-12-17T07:23:59.129183",
     "exception": false,
     "start_time": "2023-12-17T07:23:59.080610",
     "status": "completed"
    },
    "tags": []
   },
   "outputs": [
    {
     "data": {
      "text/html": [
       "<div>\n",
       "<style scoped>\n",
       "    .dataframe tbody tr th:only-of-type {\n",
       "        vertical-align: middle;\n",
       "    }\n",
       "\n",
       "    .dataframe tbody tr th {\n",
       "        vertical-align: top;\n",
       "    }\n",
       "\n",
       "    .dataframe thead th {\n",
       "        text-align: right;\n",
       "    }\n",
       "</style>\n",
       "<table border=\"1\" class=\"dataframe\">\n",
       "  <thead>\n",
       "    <tr style=\"text-align: right;\">\n",
       "      <th></th>\n",
       "      <th>Survived</th>\n",
       "      <th>Pclass</th>\n",
       "      <th>Sex</th>\n",
       "      <th>Age</th>\n",
       "      <th>Fare</th>\n",
       "      <th>Embarked</th>\n",
       "    </tr>\n",
       "  </thead>\n",
       "  <tbody>\n",
       "    <tr>\n",
       "      <th>Survived</th>\n",
       "      <td>1.000000</td>\n",
       "      <td>-0.338481</td>\n",
       "      <td>0.543351</td>\n",
       "      <td>-0.077221</td>\n",
       "      <td>0.257307</td>\n",
       "      <td>0.108669</td>\n",
       "    </tr>\n",
       "    <tr>\n",
       "      <th>Pclass</th>\n",
       "      <td>-0.338481</td>\n",
       "      <td>1.000000</td>\n",
       "      <td>-0.131900</td>\n",
       "      <td>-0.369226</td>\n",
       "      <td>-0.549500</td>\n",
       "      <td>0.043835</td>\n",
       "    </tr>\n",
       "    <tr>\n",
       "      <th>Sex</th>\n",
       "      <td>0.543351</td>\n",
       "      <td>-0.131900</td>\n",
       "      <td>1.000000</td>\n",
       "      <td>-0.093254</td>\n",
       "      <td>0.182333</td>\n",
       "      <td>0.118593</td>\n",
       "    </tr>\n",
       "    <tr>\n",
       "      <th>Age</th>\n",
       "      <td>-0.077221</td>\n",
       "      <td>-0.369226</td>\n",
       "      <td>-0.093254</td>\n",
       "      <td>1.000000</td>\n",
       "      <td>0.096067</td>\n",
       "      <td>0.012186</td>\n",
       "    </tr>\n",
       "    <tr>\n",
       "      <th>Fare</th>\n",
       "      <td>0.257307</td>\n",
       "      <td>-0.549500</td>\n",
       "      <td>0.182333</td>\n",
       "      <td>0.096067</td>\n",
       "      <td>1.000000</td>\n",
       "      <td>0.063462</td>\n",
       "    </tr>\n",
       "  </tbody>\n",
       "</table>\n",
       "</div>"
      ],
      "text/plain": [
       "          Survived    Pclass       Sex       Age      Fare  Embarked\n",
       "Survived  1.000000 -0.338481  0.543351 -0.077221  0.257307  0.108669\n",
       "Pclass   -0.338481  1.000000 -0.131900 -0.369226 -0.549500  0.043835\n",
       "Sex       0.543351 -0.131900  1.000000 -0.093254  0.182333  0.118593\n",
       "Age      -0.077221 -0.369226 -0.093254  1.000000  0.096067  0.012186\n",
       "Fare      0.257307 -0.549500  0.182333  0.096067  1.000000  0.063462"
      ]
     },
     "execution_count": 28,
     "metadata": {},
     "output_type": "execute_result"
    }
   ],
   "source": [
    "taco = tacos.corr()\n",
    "taco.head()"
   ]
  },
  {
   "cell_type": "code",
   "execution_count": 29,
   "id": "cbd2f62c",
   "metadata": {
    "execution": {
     "iopub.execute_input": "2023-12-17T07:23:59.178341Z",
     "iopub.status.busy": "2023-12-17T07:23:59.177873Z",
     "iopub.status.idle": "2023-12-17T07:23:59.725500Z",
     "shell.execute_reply": "2023-12-17T07:23:59.723984Z"
    },
    "papermill": {
     "duration": 0.5766,
     "end_time": "2023-12-17T07:23:59.728903",
     "exception": false,
     "start_time": "2023-12-17T07:23:59.152303",
     "status": "completed"
    },
    "tags": []
   },
   "outputs": [
    {
     "data": {
      "text/plain": [
       "<Axes: >"
      ]
     },
     "execution_count": 29,
     "metadata": {},
     "output_type": "execute_result"
    },
    {
     "data": {
      "image/png": "[encoded data removed]",
      "text/plain": [
       "<Figure size 640x480 with 2 Axes>"
      ]
     },
     "metadata": {},
     "output_type": "display_data"
    }
   ],
   "source": [
    "sns.heatmap((taco), vmin=-1, vmax=1, annot=True)"
   ]
  },
  {
   "cell_type": "code",
   "execution_count": 30,
   "id": "87fa27af",
   "metadata": {
    "execution": {
     "iopub.execute_input": "2023-12-17T07:23:59.782458Z",
     "iopub.status.busy": "2023-12-17T07:23:59.782042Z",
     "iopub.status.idle": "2023-12-17T07:23:59.801398Z",
     "shell.execute_reply": "2023-12-17T07:23:59.800556Z"
    },
    "papermill": {
     "duration": 0.049243,
     "end_time": "2023-12-17T07:23:59.804027",
     "exception": false,
     "start_time": "2023-12-17T07:23:59.754784",
     "status": "completed"
    },
    "tags": []
   },
   "outputs": [
    {
     "data": {
      "text/html": [
       "<div>\n",
       "<style scoped>\n",
       "    .dataframe tbody tr th:only-of-type {\n",
       "        vertical-align: middle;\n",
       "    }\n",
       "\n",
       "    .dataframe tbody tr th {\n",
       "        vertical-align: top;\n",
       "    }\n",
       "\n",
       "    .dataframe thead th {\n",
       "        text-align: right;\n",
       "    }\n",
       "</style>\n",
       "<table border=\"1\" class=\"dataframe\">\n",
       "  <thead>\n",
       "    <tr style=\"text-align: right;\">\n",
       "      <th></th>\n",
       "      <th>Age</th>\n",
       "      <th>Embarked</th>\n",
       "      <th>Fare</th>\n",
       "      <th>Pclass</th>\n",
       "      <th>Sex</th>\n",
       "    </tr>\n",
       "    <tr>\n",
       "      <th>Survived</th>\n",
       "      <th></th>\n",
       "      <th></th>\n",
       "      <th></th>\n",
       "      <th></th>\n",
       "      <th></th>\n",
       "    </tr>\n",
       "  </thead>\n",
       "  <tbody>\n",
       "    <tr>\n",
       "      <th>0</th>\n",
       "      <td>30.626179</td>\n",
       "      <td>1.307832</td>\n",
       "      <td>22.117887</td>\n",
       "      <td>2.531876</td>\n",
       "      <td>0.147541</td>\n",
       "    </tr>\n",
       "    <tr>\n",
       "      <th>1</th>\n",
       "      <td>28.343690</td>\n",
       "      <td>1.450000</td>\n",
       "      <td>48.395408</td>\n",
       "      <td>1.950292</td>\n",
       "      <td>0.681287</td>\n",
       "    </tr>\n",
       "  </tbody>\n",
       "</table>\n",
       "</div>"
      ],
      "text/plain": [
       "                Age  Embarked       Fare    Pclass       Sex\n",
       "Survived                                                    \n",
       "0         30.626179  1.307832  22.117887  2.531876  0.147541\n",
       "1         28.343690  1.450000  48.395408  1.950292  0.681287"
      ]
     },
     "execution_count": 30,
     "metadata": {},
     "output_type": "execute_result"
    }
   ],
   "source": [
    "taco_pivot = pd.pivot_table(tacos, index = 'Survived', values = ['Pclass', 'Sex', 'Age', 'Fare', 'Embarked'])\n",
    "taco_pivot"
   ]
  },
  {
   "cell_type": "code",
   "execution_count": 31,
   "id": "9b965348",
   "metadata": {
    "execution": {
     "iopub.execute_input": "2023-12-17T07:23:59.856898Z",
     "iopub.status.busy": "2023-12-17T07:23:59.856124Z",
     "iopub.status.idle": "2023-12-17T07:23:59.862602Z",
     "shell.execute_reply": "2023-12-17T07:23:59.861876Z"
    },
    "papermill": {
     "duration": 0.036099,
     "end_time": "2023-12-17T07:23:59.865389",
     "exception": false,
     "start_time": "2023-12-17T07:23:59.829290",
     "status": "completed"
    },
    "tags": []
   },
   "outputs": [
    {
     "name": "stdout",
     "output_type": "stream",
     "text": [
      "Percentage of 1st Class who survived: 0.6296296296296297\n"
     ]
    }
   ],
   "source": [
    "guest = tacos.loc[tacos.Pclass == 1]['Survived']\n",
    "guest_1class = sum(guest)/len(guest)\n",
    "print (\"Percentage of 1st Class who survived:\", guest_1class)"
   ]
  },
  {
   "cell_type": "code",
   "execution_count": 32,
   "id": "6fa7cce8",
   "metadata": {
    "execution": {
     "iopub.execute_input": "2023-12-17T07:23:59.919138Z",
     "iopub.status.busy": "2023-12-17T07:23:59.918410Z",
     "iopub.status.idle": "2023-12-17T07:23:59.925697Z",
     "shell.execute_reply": "2023-12-17T07:23:59.924295Z"
    },
    "papermill": {
     "duration": 0.036745,
     "end_time": "2023-12-17T07:23:59.928383",
     "exception": false,
     "start_time": "2023-12-17T07:23:59.891638",
     "status": "completed"
    },
    "tags": []
   },
   "outputs": [
    {
     "name": "stdout",
     "output_type": "stream",
     "text": [
      "Percentage of 2nd Class who survived: 0.47282608695652173\n"
     ]
    }
   ],
   "source": [
    "guest2 = tacos.loc[tacos.Pclass == 2]['Survived']\n",
    "guest_2class = sum(guest2)/len(guest2)\n",
    "print (\"Percentage of 2nd Class who survived:\", guest_2class)"
   ]
  },
  {
   "cell_type": "code",
   "execution_count": 33,
   "id": "75dfe7c1",
   "metadata": {
    "execution": {
     "iopub.execute_input": "2023-12-17T07:23:59.982485Z",
     "iopub.status.busy": "2023-12-17T07:23:59.982088Z",
     "iopub.status.idle": "2023-12-17T07:23:59.989787Z",
     "shell.execute_reply": "2023-12-17T07:23:59.988415Z"
    },
    "papermill": {
     "duration": 0.039239,
     "end_time": "2023-12-17T07:23:59.993022",
     "exception": false,
     "start_time": "2023-12-17T07:23:59.953783",
     "status": "completed"
    },
    "tags": []
   },
   "outputs": [
    {
     "name": "stdout",
     "output_type": "stream",
     "text": [
      "Percentage of 3rd Class who survived: 0.24236252545824846\n"
     ]
    }
   ],
   "source": [
    "guest3 = tacos.loc[tacos.Pclass == 3]['Survived']\n",
    "guest_3class = sum(guest3)/len(guest3)\n",
    "print (\"Percentage of 3rd Class who survived:\", guest_3class)"
   ]
  },
  {
   "cell_type": "markdown",
   "id": "869d7e3c",
   "metadata": {
    "papermill": {
     "duration": 0.025676,
     "end_time": "2023-12-17T07:24:00.044772",
     "exception": false,
     "start_time": "2023-12-17T07:24:00.019096",
     "status": "completed"
    },
    "tags": []
   },
   "source": [
    "# <FONT COLOR= 'rainbow'> Building... </FONT>"
   ]
  },
  {
   "cell_type": "markdown",
   "id": "8718a756",
   "metadata": {
    "papermill": {
     "duration": 0.027211,
     "end_time": "2023-12-17T07:24:00.098042",
     "exception": false,
     "start_time": "2023-12-17T07:24:00.070831",
     "status": "completed"
    },
    "tags": []
   },
   "source": [
    "Before processing the data into a model, we need to fill in missing values in both datasets.\n",
    "Focusing on the following:\n",
    "Pclass, Sex, and Fare. These variables seem to play a big factor in surviving the Titanic.\n",
    "Being a woman had an impact of surviving the Titanic. Mostly due to the values and upbringings of the guests."
   ]
  },
  {
   "cell_type": "code",
   "execution_count": 34,
   "id": "66890c39",
   "metadata": {
    "execution": {
     "iopub.execute_input": "2023-12-17T07:24:00.152132Z",
     "iopub.status.busy": "2023-12-17T07:24:00.151708Z",
     "iopub.status.idle": "2023-12-17T07:24:00.174212Z",
     "shell.execute_reply": "2023-12-17T07:24:00.173009Z"
    },
    "papermill": {
     "duration": 0.053252,
     "end_time": "2023-12-17T07:24:00.177120",
     "exception": false,
     "start_time": "2023-12-17T07:24:00.123868",
     "status": "completed"
    },
    "tags": []
   },
   "outputs": [
    {
     "data": {
      "text/html": [
       "<div>\n",
       "<style scoped>\n",
       "    .dataframe tbody tr th:only-of-type {\n",
       "        vertical-align: middle;\n",
       "    }\n",
       "\n",
       "    .dataframe tbody tr th {\n",
       "        vertical-align: top;\n",
       "    }\n",
       "\n",
       "    .dataframe thead th {\n",
       "        text-align: right;\n",
       "    }\n",
       "</style>\n",
       "<table border=\"1\" class=\"dataframe\">\n",
       "  <thead>\n",
       "    <tr style=\"text-align: right;\">\n",
       "      <th></th>\n",
       "      <th>Pclass</th>\n",
       "      <th>Sex</th>\n",
       "      <th>Fare</th>\n",
       "    </tr>\n",
       "  </thead>\n",
       "  <tbody>\n",
       "    <tr>\n",
       "      <th>0</th>\n",
       "      <td>3</td>\n",
       "      <td>0</td>\n",
       "      <td>7.2500</td>\n",
       "    </tr>\n",
       "    <tr>\n",
       "      <th>1</th>\n",
       "      <td>1</td>\n",
       "      <td>1</td>\n",
       "      <td>71.2833</td>\n",
       "    </tr>\n",
       "    <tr>\n",
       "      <th>2</th>\n",
       "      <td>3</td>\n",
       "      <td>1</td>\n",
       "      <td>7.9250</td>\n",
       "    </tr>\n",
       "    <tr>\n",
       "      <th>3</th>\n",
       "      <td>1</td>\n",
       "      <td>1</td>\n",
       "      <td>53.1000</td>\n",
       "    </tr>\n",
       "    <tr>\n",
       "      <th>4</th>\n",
       "      <td>3</td>\n",
       "      <td>0</td>\n",
       "      <td>8.0500</td>\n",
       "    </tr>\n",
       "  </tbody>\n",
       "</table>\n",
       "</div>"
      ],
      "text/plain": [
       "   Pclass  Sex     Fare\n",
       "0       3    0   7.2500\n",
       "1       1    1  71.2833\n",
       "2       3    1   7.9250\n",
       "3       1    1  53.1000\n",
       "4       3    0   8.0500"
      ]
     },
     "execution_count": 34,
     "metadata": {},
     "output_type": "execute_result"
    }
   ],
   "source": [
    "features = [\"Pclass\", \"Sex\", \"Fare\"]\n",
    "\n",
    "X_train = tacos[features].copy()\n",
    "\n",
    "fare_median = X_train[\"Fare\"].median()\n",
    "\n",
    "X_train[\"Fare\"].fillna(fare_median, inplace=True)\n",
    "X_train = pd.get_dummies(X_train, drop_first=True)\n",
    "\n",
    "X_test = nachos1[features].copy()\n",
    "\n",
    "X_test[\"Fare\"].fillna(fare_median, inplace=True)\n",
    "X_test = pd.get_dummies(X_test, drop_first=True)\n",
    "\n",
    "X_train, X_test = X_train.align(X_test, join='left', axis=1, fill_value=0)\n",
    "X_train.head()"
   ]
  },
  {
   "cell_type": "markdown",
   "id": "c6afdbcb",
   "metadata": {
    "papermill": {
     "duration": 0.026947,
     "end_time": "2023-12-17T07:24:00.230950",
     "exception": false,
     "start_time": "2023-12-17T07:24:00.204003",
     "status": "completed"
    },
    "tags": []
   },
   "source": [
    "# <FONT COLOR = \"rainbow\"> Creating the Model... </FONT>"
   ]
  },
  {
   "cell_type": "markdown",
   "id": "8e450aaf",
   "metadata": {
    "papermill": {
     "duration": 0.025836,
     "end_time": "2023-12-17T07:24:00.283358",
     "exception": false,
     "start_time": "2023-12-17T07:24:00.257522",
     "status": "completed"
    },
    "tags": []
   },
   "source": [
    "### Cross-Validation:"
   ]
  },
  {
   "cell_type": "code",
   "execution_count": 35,
   "id": "90d7aeb2",
   "metadata": {
    "execution": {
     "iopub.execute_input": "2023-12-17T07:24:00.341951Z",
     "iopub.status.busy": "2023-12-17T07:24:00.340241Z",
     "iopub.status.idle": "2023-12-17T07:24:01.662266Z",
     "shell.execute_reply": "2023-12-17T07:24:01.660965Z"
    },
    "papermill": {
     "duration": 1.355125,
     "end_time": "2023-12-17T07:24:01.664942",
     "exception": false,
     "start_time": "2023-12-17T07:24:00.309817",
     "status": "completed"
    },
    "tags": []
   },
   "outputs": [
    {
     "name": "stdout",
     "output_type": "stream",
     "text": [
      "Random Forest:\n",
      "Cross-validation scores: [0.77094972 0.79213483 0.83146067 0.79775281 0.80898876]\n",
      "Average score: 0.8002573598644153\n"
     ]
    }
   ],
   "source": [
    "# Cross validation \n",
    "y_train = tacos[\"Survived\"]\n",
    "\n",
    "rfcmodel = RandomForestClassifier(n_estimators=100, max_depth=5, random_state=1)\n",
    "\n",
    "cv_scores = cross_val_score(rfcmodel, X_train, y_train, cv=5)\n",
    "rf_avg_cv_score = cv_scores.mean()\n",
    "\n",
    "print(\"Random Forest:\")\n",
    "print(\"Cross-validation scores:\", cv_scores)\n",
    "print(\"Average score:\", cv_scores.mean())"
   ]
  },
  {
   "cell_type": "markdown",
   "id": "8e222dbd",
   "metadata": {
    "papermill": {
     "duration": 0.027191,
     "end_time": "2023-12-17T07:24:01.717247",
     "exception": false,
     "start_time": "2023-12-17T07:24:01.690056",
     "status": "completed"
    },
    "tags": []
   },
   "source": [
    "### Logistic Regression:"
   ]
  },
  {
   "cell_type": "code",
   "execution_count": 36,
   "id": "d2438926",
   "metadata": {
    "execution": {
     "iopub.execute_input": "2023-12-17T07:24:01.769629Z",
     "iopub.status.busy": "2023-12-17T07:24:01.768103Z",
     "iopub.status.idle": "2023-12-17T07:24:01.862647Z",
     "shell.execute_reply": "2023-12-17T07:24:01.861257Z"
    },
    "papermill": {
     "duration": 0.124334,
     "end_time": "2023-12-17T07:24:01.865994",
     "exception": false,
     "start_time": "2023-12-17T07:24:01.741660",
     "status": "completed"
    },
    "tags": []
   },
   "outputs": [
    {
     "name": "stdout",
     "output_type": "stream",
     "text": [
      "Logistic Regression:\n",
      "[0.79329609 0.80337079 0.76966292 0.75842697 0.78651685]\n",
      "0.7822547234950725\n"
     ]
    }
   ],
   "source": [
    "lr_model = LogisticRegression(max_iter = 2000)\n",
    "cv = cross_val_score(lr_model,X_train,y_train,cv=5)\n",
    "lr_avg_cv_score = cv.mean()\n",
    "\n",
    "print(\"Logistic Regression:\")\n",
    "print(cv)\n",
    "print(cv.mean())"
   ]
  },
  {
   "cell_type": "markdown",
   "id": "b5587209",
   "metadata": {
    "papermill": {
     "duration": 0.025646,
     "end_time": "2023-12-17T07:24:01.918266",
     "exception": false,
     "start_time": "2023-12-17T07:24:01.892620",
     "status": "completed"
    },
    "tags": []
   },
   "source": [
    "# <FONT COLOR='rainbow'> Predicition...</FONT>"
   ]
  },
  {
   "cell_type": "code",
   "execution_count": 37,
   "id": "48e149ac",
   "metadata": {
    "execution": {
     "iopub.execute_input": "2023-12-17T07:24:01.975978Z",
     "iopub.status.busy": "2023-12-17T07:24:01.975548Z",
     "iopub.status.idle": "2023-12-17T07:24:02.234025Z",
     "shell.execute_reply": "2023-12-17T07:24:02.232735Z"
    },
    "papermill": {
     "duration": 0.292765,
     "end_time": "2023-12-17T07:24:02.237632",
     "exception": false,
     "start_time": "2023-12-17T07:24:01.944867",
     "status": "completed"
    },
    "tags": []
   },
   "outputs": [
    {
     "name": "stdout",
     "output_type": "stream",
     "text": [
      "Random Forest has a higher CV score.\n"
     ]
    }
   ],
   "source": [
    "if rf_avg_cv_score > lr_avg_cv_score:\n",
    "    print(\"Random Forest has a higher CV score.\")\n",
    "    selected_model = rfcmodel\n",
    "else:\n",
    "    print(\"Logistic Regression has a higher CV score.\")\n",
    "    selected_model = lr_model\n",
    "    \n",
    "selected_model.fit(X_train, y_train)\n",
    "model_predictions = selected_model.predict(X_test)"
   ]
  },
  {
   "cell_type": "code",
   "execution_count": 38,
   "id": "223875cb",
   "metadata": {
    "execution": {
     "iopub.execute_input": "2023-12-17T07:24:02.293881Z",
     "iopub.status.busy": "2023-12-17T07:24:02.293426Z",
     "iopub.status.idle": "2023-12-17T07:24:02.305152Z",
     "shell.execute_reply": "2023-12-17T07:24:02.303710Z"
    },
    "papermill": {
     "duration": 0.042868,
     "end_time": "2023-12-17T07:24:02.307365",
     "exception": false,
     "start_time": "2023-12-17T07:24:02.264497",
     "status": "completed"
    },
    "tags": []
   },
   "outputs": [
    {
     "name": "stdout",
     "output_type": "stream",
     "text": [
      "Submission was successfully saved!\n"
     ]
    }
   ],
   "source": [
    "output = pd.DataFrame({'PassengerId': nachos.PassengerId, 'Survived': model_predictions})\n",
    "output.to_csv('submission.csv', index=False)\n",
    "print(\"Submission was successfully saved!\")"
   ]
  },
  {
   "cell_type": "code",
   "execution_count": null,
   "id": "3a9e62a8",
   "metadata": {
    "papermill": {
     "duration": 0.024907,
     "end_time": "2023-12-17T07:24:02.358059",
     "exception": false,
     "start_time": "2023-12-17T07:24:02.333152",
     "status": "completed"
    },
    "tags": []
   },
   "outputs": [],
   "source": []
  }
 ],
 "metadata": {
  "kaggle": {
   "accelerator": "none",
   "dataSources": [
    {
     "datasetId": 3992796,
     "sourceId": 6951883,
     "sourceType": "datasetVersion"
    },
    {
     "datasetId": 3993022,
     "sourceId": 6952257,
     "sourceType": "datasetVersion"
    }
   ],
   "dockerImageVersionId": 30626,
   "isGpuEnabled": false,
   "isInternetEnabled": true,
   "language": "python",
   "sourceType": "notebook"
  },
  "kernelspec": {
   "display_name": "Python 3",
   "language": "python",
   "name": "python3"
  },
  "language_info": {
   "codemirror_mode": {
    "name": "ipython",
    "version": 3
   },
   "file_extension": ".py",
   "mimetype": "text/x-python",
   "name": "python",
   "nbconvert_exporter": "python",
   "pygments_lexer": "ipython3",
   "version": "3.10.12"
  },
  "papermill": {
   "default_parameters": {},
   "duration": 14.877554,
   "end_time": "2023-12-17T07:24:03.309608",
   "environment_variables": {},
   "exception": null,
   "input_path": "__notebook__.ipynb",
   "output_path": "__notebook__.ipynb",
   "parameters": {},
   "start_time": "2023-12-17T07:23:48.432054",
   "version": "2.4.0"
  }
 },
 "nbformat": 4,
 "nbformat_minor": 5
}
